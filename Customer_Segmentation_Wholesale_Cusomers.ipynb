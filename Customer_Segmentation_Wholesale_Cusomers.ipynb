{
  "nbformat": 4,
  "nbformat_minor": 0,
  "metadata": {
    "colab": {
      "name": "Customer_Segmentation_Wholesale_Cusomers.ipynb",
      "provenance": [],
      "include_colab_link": true
    },
    "kernelspec": {
      "name": "python3",
      "display_name": "Python 3"
    },
    "accelerator": "GPU"
  },
  "cells": [
    {
      "cell_type": "markdown",
      "metadata": {
        "id": "view-in-github",
        "colab_type": "text"
      },
      "source": [
        "<a href=\"https://colab.research.google.com/github/plaban1981/churn-prediction/blob/master/Customer_Segmentation_Wholesale_Cusomers.ipynb\" target=\"_parent\"><img src=\"https://colab.research.google.com/assets/colab-badge.svg\" alt=\"Open In Colab\"/></a>"
      ]
    },
    {
      "cell_type": "markdown",
      "metadata": {
        "id": "BvEEGdVU9fYx",
        "colab_type": "text"
      },
      "source": [
        "## Import data science libraries"
      ]
    },
    {
      "cell_type": "code",
      "metadata": {
        "id": "dfz0r2rd7mis",
        "colab_type": "code",
        "colab": {}
      },
      "source": [
        "import pandas as pd\n",
        "import numpy as np"
      ],
      "execution_count": 0,
      "outputs": []
    },
    {
      "cell_type": "code",
      "metadata": {
        "id": "ehTGC07F-oNw",
        "colab_type": "code",
        "colab": {
          "resources": {
            "http://localhost:8080/nbextensions/google.colab/files.js": {
              "data": "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",
              "ok": true,
              "headers": [
                [
                  "content-type",
                  "application/javascript"
                ]
              ],
              "status": 200,
              "status_text": "OK"
            }
          },
          "base_uri": "https://localhost:8080/",
          "height": 112
        },
        "outputId": "e0805a70-9550-4d65-8931-43cf00668139"
      },
      "source": [
        "from google.colab import files\n",
        "files.upload()"
      ],
      "execution_count": 3,
      "outputs": [
        {
          "output_type": "display_data",
          "data": {
            "text/html": [
              "\n",
              "     <input type=\"file\" id=\"files-76a89180-93c6-49e4-b629-25cd22c4f547\" name=\"files[]\" multiple disabled />\n",
              "     <output id=\"result-76a89180-93c6-49e4-b629-25cd22c4f547\">\n",
              "      Upload widget is only available when the cell has been executed in the\n",
              "      current browser session. Please rerun this cell to enable.\n",
              "      </output>\n",
              "      <script src=\"/nbextensions/google.colab/files.js\"></script> "
            ],
            "text/plain": [
              "<IPython.core.display.HTML object>"
            ]
          },
          "metadata": {
            "tags": []
          }
        },
        {
          "output_type": "stream",
          "text": [
            "Saving Wholesale customers data.csv to Wholesale customers data.csv\n"
          ],
          "name": "stdout"
        },
        {
          "output_type": "execute_result",
          "data": {
            "text/plain": [
              "{'Wholesale customers data.csv': b'Channel,Region,Fresh,Milk,Grocery,Frozen,Detergents_Paper,Delicassen\\r\\n2,3,12669,9656,7561,214,2674,1338\\r\\n2,3,7057,9810,9568,1762,3293,1776\\r\\n2,3,6353,8808,7684,2405,3516,7844\\r\\n1,3,13265,1196,4221,6404,507,1788\\r\\n2,3,22615,5410,7198,3915,1777,5185\\r\\n2,3,9413,8259,5126,666,1795,1451\\r\\n2,3,12126,3199,6975,480,3140,545\\r\\n2,3,7579,4956,9426,1669,3321,2566\\r\\n1,3,5963,3648,6192,425,1716,750\\r\\n2,3,6006,11093,18881,1159,7425,2098\\r\\n2,3,3366,5403,12974,4400,5977,1744\\r\\n2,3,13146,1124,4523,1420,549,497\\r\\n2,3,31714,12319,11757,287,3881,2931\\r\\n2,3,21217,6208,14982,3095,6707,602\\r\\n2,3,24653,9465,12091,294,5058,2168\\r\\n1,3,10253,1114,3821,397,964,412\\r\\n2,3,1020,8816,12121,134,4508,1080\\r\\n1,3,5876,6157,2933,839,370,4478\\r\\n2,3,18601,6327,10099,2205,2767,3181\\r\\n1,3,7780,2495,9464,669,2518,501\\r\\n2,3,17546,4519,4602,1066,2259,2124\\r\\n1,3,5567,871,2010,3383,375,569\\r\\n1,3,31276,1917,4469,9408,2381,4334\\r\\n2,3,26373,36423,22019,5154,4337,16523\\r\\n2,3,22647,9776,13792,2915,4482,5778\\r\\n2,3,16165,4230,7595,201,4003,57\\r\\n1,3,9898,961,2861,3151,242,833\\r\\n1,3,14276,803,3045,485,100,518\\r\\n2,3,4113,20484,25957,1158,8604,5206\\r\\n1,3,43088,2100,2609,1200,1107,823\\r\\n1,3,18815,3610,11107,1148,2134,2963\\r\\n1,3,2612,4339,3133,2088,820,985\\r\\n1,3,21632,1318,2886,266,918,405\\r\\n1,3,29729,4786,7326,6130,361,1083\\r\\n1,3,1502,1979,2262,425,483,395\\r\\n2,3,688,5491,11091,833,4239,436\\r\\n1,3,29955,4362,5428,1729,862,4626\\r\\n2,3,15168,10556,12477,1920,6506,714\\r\\n2,3,4591,15729,16709,33,6956,433\\r\\n1,3,56159,555,902,10002,212,2916\\r\\n1,3,24025,4332,4757,9510,1145,5864\\r\\n1,3,19176,3065,5956,2033,2575,2802\\r\\n2,3,10850,7555,14961,188,6899,46\\r\\n2,3,630,11095,23998,787,9529,72\\r\\n2,3,9670,7027,10471,541,4618,65\\r\\n2,3,5181,22044,21531,1740,7353,4985\\r\\n2,3,3103,14069,21955,1668,6792,1452\\r\\n2,3,44466,54259,55571,7782,24171,6465\\r\\n2,3,11519,6152,10868,584,5121,1476\\r\\n2,3,4967,21412,28921,1798,13583,1163\\r\\n1,3,6269,1095,1980,3860,609,2162\\r\\n1,3,3347,4051,6996,239,1538,301\\r\\n2,3,40721,3916,5876,532,2587,1278\\r\\n2,3,491,10473,11532,744,5611,224\\r\\n1,3,27329,1449,1947,2436,204,1333\\r\\n1,3,5264,3683,5005,1057,2024,1130\\r\\n2,3,4098,29892,26866,2616,17740,1340\\r\\n2,3,5417,9933,10487,38,7572,1282\\r\\n1,3,13779,1970,1648,596,227,436\\r\\n1,3,6137,5360,8040,129,3084,1603\\r\\n2,3,8590,3045,7854,96,4095,225\\r\\n2,3,35942,38369,59598,3254,26701,2017\\r\\n2,3,7823,6245,6544,4154,4074,964\\r\\n2,3,9396,11601,15775,2896,7677,1295\\r\\n1,3,4760,1227,3250,3724,1247,1145\\r\\n2,3,85,20959,45828,36,24231,1423\\r\\n1,3,9,1534,7417,175,3468,27\\r\\n2,3,19913,6759,13462,1256,5141,834\\r\\n1,3,2446,7260,3993,5870,788,3095\\r\\n1,3,8352,2820,1293,779,656,144\\r\\n1,3,16705,2037,3202,10643,116,1365\\r\\n1,3,18291,1266,21042,5373,4173,14472\\r\\n1,3,4420,5139,2661,8872,1321,181\\r\\n2,3,19899,5332,8713,8132,764,648\\r\\n2,3,8190,6343,9794,1285,1901,1780\\r\\n1,3,20398,1137,3,4407,3,975\\r\\n1,3,717,3587,6532,7530,529,894\\r\\n2,3,12205,12697,28540,869,12034,1009\\r\\n1,3,10766,1175,2067,2096,301,167\\r\\n1,3,1640,3259,3655,868,1202,1653\\r\\n1,3,7005,829,3009,430,610,529\\r\\n2,3,219,9540,14403,283,7818,156\\r\\n2,3,10362,9232,11009,737,3537,2342\\r\\n1,3,20874,1563,1783,2320,550,772\\r\\n2,3,11867,3327,4814,1178,3837,120\\r\\n2,3,16117,46197,92780,1026,40827,2944\\r\\n2,3,22925,73498,32114,987,20070,903\\r\\n1,3,43265,5025,8117,6312,1579,14351\\r\\n1,3,7864,542,4042,9735,165,46\\r\\n1,3,24904,3836,5330,3443,454,3178\\r\\n1,3,11405,596,1638,3347,69,360\\r\\n1,3,12754,2762,2530,8693,627,1117\\r\\n2,3,9198,27472,32034,3232,18906,5130\\r\\n1,3,11314,3090,2062,35009,71,2698\\r\\n2,3,5626,12220,11323,206,5038,244\\r\\n1,3,3,2920,6252,440,223,709\\r\\n2,3,23,2616,8118,145,3874,217\\r\\n1,3,403,254,610,774,54,63\\r\\n1,3,503,112,778,895,56,132\\r\\n1,3,9658,2182,1909,5639,215,323\\r\\n2,3,11594,7779,12144,3252,8035,3029\\r\\n2,3,1420,10810,16267,1593,6766,1838\\r\\n2,3,2932,6459,7677,2561,4573,1386\\r\\n1,3,56082,3504,8906,18028,1480,2498\\r\\n1,3,14100,2132,3445,1336,1491,548\\r\\n1,3,15587,1014,3970,910,139,1378\\r\\n2,3,1454,6337,10704,133,6830,1831\\r\\n2,3,8797,10646,14886,2471,8969,1438\\r\\n2,3,1531,8397,6981,247,2505,1236\\r\\n2,3,1406,16729,28986,673,836,3\\r\\n1,3,11818,1648,1694,2276,169,1647\\r\\n2,3,12579,11114,17569,805,6457,1519\\r\\n1,3,19046,2770,2469,8853,483,2708\\r\\n1,3,14438,2295,1733,3220,585,1561\\r\\n1,3,18044,1080,2000,2555,118,1266\\r\\n1,3,11134,793,2988,2715,276,610\\r\\n1,3,11173,2521,3355,1517,310,222\\r\\n1,3,6990,3880,5380,1647,319,1160\\r\\n1,3,20049,1891,2362,5343,411,933\\r\\n1,3,8258,2344,2147,3896,266,635\\r\\n1,3,17160,1200,3412,2417,174,1136\\r\\n1,3,4020,3234,1498,2395,264,255\\r\\n1,3,12212,201,245,1991,25,860\\r\\n2,3,11170,10769,8814,2194,1976,143\\r\\n1,3,36050,1642,2961,4787,500,1621\\r\\n1,3,76237,3473,7102,16538,778,918\\r\\n1,3,19219,1840,1658,8195,349,483\\r\\n2,3,21465,7243,10685,880,2386,2749\\r\\n1,3,140,8847,3823,142,1062,3\\r\\n1,3,42312,926,1510,1718,410,1819\\r\\n1,3,7149,2428,699,6316,395,911\\r\\n1,3,2101,589,314,346,70,310\\r\\n1,3,14903,2032,2479,576,955,328\\r\\n1,3,9434,1042,1235,436,256,396\\r\\n1,3,7388,1882,2174,720,47,537\\r\\n1,3,6300,1289,2591,1170,199,326\\r\\n1,3,4625,8579,7030,4575,2447,1542\\r\\n1,3,3087,8080,8282,661,721,36\\r\\n1,3,13537,4257,5034,155,249,3271\\r\\n1,3,5387,4979,3343,825,637,929\\r\\n1,3,17623,4280,7305,2279,960,2616\\r\\n1,3,30379,13252,5189,321,51,1450\\r\\n1,3,37036,7152,8253,2995,20,3\\r\\n1,3,10405,1596,1096,8425,399,318\\r\\n1,3,18827,3677,1988,118,516,201\\r\\n2,3,22039,8384,34792,42,12591,4430\\r\\n1,3,7769,1936,2177,926,73,520\\r\\n1,3,9203,3373,2707,1286,1082,526\\r\\n1,3,5924,584,542,4052,283,434\\r\\n1,3,31812,1433,1651,800,113,1440\\r\\n1,3,16225,1825,1765,853,170,1067\\r\\n1,3,1289,3328,2022,531,255,1774\\r\\n1,3,18840,1371,3135,3001,352,184\\r\\n1,3,3463,9250,2368,779,302,1627\\r\\n1,3,622,55,137,75,7,8\\r\\n2,3,1989,10690,19460,233,11577,2153\\r\\n2,3,3830,5291,14855,317,6694,3182\\r\\n1,3,17773,1366,2474,3378,811,418\\r\\n2,3,2861,6570,9618,930,4004,1682\\r\\n2,3,355,7704,14682,398,8077,303\\r\\n2,3,1725,3651,12822,824,4424,2157\\r\\n1,3,12434,540,283,1092,3,2233\\r\\n1,3,15177,2024,3810,2665,232,610\\r\\n2,3,5531,15726,26870,2367,13726,446\\r\\n2,3,5224,7603,8584,2540,3674,238\\r\\n2,3,15615,12653,19858,4425,7108,2379\\r\\n2,3,4822,6721,9170,993,4973,3637\\r\\n1,3,2926,3195,3268,405,1680,693\\r\\n1,3,5809,735,803,1393,79,429\\r\\n1,3,5414,717,2155,2399,69,750\\r\\n2,3,260,8675,13430,1116,7015,323\\r\\n2,3,200,25862,19816,651,8773,6250\\r\\n1,3,955,5479,6536,333,2840,707\\r\\n2,3,514,7677,19805,937,9836,716\\r\\n1,3,286,1208,5241,2515,153,1442\\r\\n2,3,2343,7845,11874,52,4196,1697\\r\\n1,3,45640,6958,6536,7368,1532,230\\r\\n1,3,12759,7330,4533,1752,20,2631\\r\\n1,3,11002,7075,4945,1152,120,395\\r\\n1,3,3157,4888,2500,4477,273,2165\\r\\n1,3,12356,6036,8887,402,1382,2794\\r\\n1,3,112151,29627,18148,16745,4948,8550\\r\\n1,3,694,8533,10518,443,6907,156\\r\\n1,3,36847,43950,20170,36534,239,47943\\r\\n1,3,327,918,4710,74,334,11\\r\\n1,3,8170,6448,1139,2181,58,247\\r\\n1,3,3009,521,854,3470,949,727\\r\\n1,3,2438,8002,9819,6269,3459,3\\r\\n2,3,8040,7639,11687,2758,6839,404\\r\\n2,3,834,11577,11522,275,4027,1856\\r\\n1,3,16936,6250,1981,7332,118,64\\r\\n1,3,13624,295,1381,890,43,84\\r\\n1,3,5509,1461,2251,547,187,409\\r\\n2,3,180,3485,20292,959,5618,666\\r\\n1,3,7107,1012,2974,806,355,1142\\r\\n1,3,17023,5139,5230,7888,330,1755\\r\\n1,1,30624,7209,4897,18711,763,2876\\r\\n2,1,2427,7097,10391,1127,4314,1468\\r\\n1,1,11686,2154,6824,3527,592,697\\r\\n1,1,9670,2280,2112,520,402,347\\r\\n2,1,3067,13240,23127,3941,9959,731\\r\\n2,1,4484,14399,24708,3549,14235,1681\\r\\n1,1,25203,11487,9490,5065,284,6854\\r\\n1,1,583,685,2216,469,954,18\\r\\n1,1,1956,891,5226,1383,5,1328\\r\\n2,1,1107,11711,23596,955,9265,710\\r\\n1,1,6373,780,950,878,288,285\\r\\n2,1,2541,4737,6089,2946,5316,120\\r\\n1,1,1537,3748,5838,1859,3381,806\\r\\n2,1,5550,12729,16767,864,12420,797\\r\\n1,1,18567,1895,1393,1801,244,2100\\r\\n2,1,12119,28326,39694,4736,19410,2870\\r\\n1,1,7291,1012,2062,1291,240,1775\\r\\n1,1,3317,6602,6861,1329,3961,1215\\r\\n2,1,2362,6551,11364,913,5957,791\\r\\n1,1,2806,10765,15538,1374,5828,2388\\r\\n2,1,2532,16599,36486,179,13308,674\\r\\n1,1,18044,1475,2046,2532,130,1158\\r\\n2,1,18,7504,15205,1285,4797,6372\\r\\n1,1,4155,367,1390,2306,86,130\\r\\n1,1,14755,899,1382,1765,56,749\\r\\n1,1,5396,7503,10646,91,4167,239\\r\\n1,1,5041,1115,2856,7496,256,375\\r\\n2,1,2790,2527,5265,5612,788,1360\\r\\n1,1,7274,659,1499,784,70,659\\r\\n1,1,12680,3243,4157,660,761,786\\r\\n2,1,20782,5921,9212,1759,2568,1553\\r\\n1,1,4042,2204,1563,2286,263,689\\r\\n1,1,1869,577,572,950,4762,203\\r\\n1,1,8656,2746,2501,6845,694,980\\r\\n2,1,11072,5989,5615,8321,955,2137\\r\\n1,1,2344,10678,3828,1439,1566,490\\r\\n1,1,25962,1780,3838,638,284,834\\r\\n1,1,964,4984,3316,937,409,7\\r\\n1,1,15603,2703,3833,4260,325,2563\\r\\n1,1,1838,6380,2824,1218,1216,295\\r\\n1,1,8635,820,3047,2312,415,225\\r\\n1,1,18692,3838,593,4634,28,1215\\r\\n1,1,7363,475,585,1112,72,216\\r\\n1,1,47493,2567,3779,5243,828,2253\\r\\n1,1,22096,3575,7041,11422,343,2564\\r\\n1,1,24929,1801,2475,2216,412,1047\\r\\n1,1,18226,659,2914,3752,586,578\\r\\n1,1,11210,3576,5119,561,1682,2398\\r\\n1,1,6202,7775,10817,1183,3143,1970\\r\\n2,1,3062,6154,13916,230,8933,2784\\r\\n1,1,8885,2428,1777,1777,430,610\\r\\n1,1,13569,346,489,2077,44,659\\r\\n1,1,15671,5279,2406,559,562,572\\r\\n1,1,8040,3795,2070,6340,918,291\\r\\n1,1,3191,1993,1799,1730,234,710\\r\\n2,1,6134,23133,33586,6746,18594,5121\\r\\n1,1,6623,1860,4740,7683,205,1693\\r\\n1,1,29526,7961,16966,432,363,1391\\r\\n1,1,10379,17972,4748,4686,1547,3265\\r\\n1,1,31614,489,1495,3242,111,615\\r\\n1,1,11092,5008,5249,453,392,373\\r\\n1,1,8475,1931,1883,5004,3593,987\\r\\n1,1,56083,4563,2124,6422,730,3321\\r\\n1,1,53205,4959,7336,3012,967,818\\r\\n1,1,9193,4885,2157,327,780,548\\r\\n1,1,7858,1110,1094,6818,49,287\\r\\n1,1,23257,1372,1677,982,429,655\\r\\n1,1,2153,1115,6684,4324,2894,411\\r\\n2,1,1073,9679,15445,61,5980,1265\\r\\n1,1,5909,23527,13699,10155,830,3636\\r\\n2,1,572,9763,22182,2221,4882,2563\\r\\n1,1,20893,1222,2576,3975,737,3628\\r\\n2,1,11908,8053,19847,1069,6374,698\\r\\n1,1,15218,258,1138,2516,333,204\\r\\n1,1,4720,1032,975,5500,197,56\\r\\n1,1,2083,5007,1563,1120,147,1550\\r\\n1,1,514,8323,6869,529,93,1040\\r\\n1,3,36817,3045,1493,4802,210,1824\\r\\n1,3,894,1703,1841,744,759,1153\\r\\n1,3,680,1610,223,862,96,379\\r\\n1,3,27901,3749,6964,4479,603,2503\\r\\n1,3,9061,829,683,16919,621,139\\r\\n1,3,11693,2317,2543,5845,274,1409\\r\\n2,3,17360,6200,9694,1293,3620,1721\\r\\n1,3,3366,2884,2431,977,167,1104\\r\\n2,3,12238,7108,6235,1093,2328,2079\\r\\n1,3,49063,3965,4252,5970,1041,1404\\r\\n1,3,25767,3613,2013,10303,314,1384\\r\\n1,3,68951,4411,12609,8692,751,2406\\r\\n1,3,40254,640,3600,1042,436,18\\r\\n1,3,7149,2247,1242,1619,1226,128\\r\\n1,3,15354,2102,2828,8366,386,1027\\r\\n1,3,16260,594,1296,848,445,258\\r\\n1,3,42786,286,471,1388,32,22\\r\\n1,3,2708,2160,2642,502,965,1522\\r\\n1,3,6022,3354,3261,2507,212,686\\r\\n1,3,2838,3086,4329,3838,825,1060\\r\\n2,2,3996,11103,12469,902,5952,741\\r\\n1,2,21273,2013,6550,909,811,1854\\r\\n2,2,7588,1897,5234,417,2208,254\\r\\n1,2,19087,1304,3643,3045,710,898\\r\\n2,2,8090,3199,6986,1455,3712,531\\r\\n2,2,6758,4560,9965,934,4538,1037\\r\\n1,2,444,879,2060,264,290,259\\r\\n2,2,16448,6243,6360,824,2662,2005\\r\\n2,2,5283,13316,20399,1809,8752,172\\r\\n2,2,2886,5302,9785,364,6236,555\\r\\n2,2,2599,3688,13829,492,10069,59\\r\\n2,2,161,7460,24773,617,11783,2410\\r\\n2,2,243,12939,8852,799,3909,211\\r\\n2,2,6468,12867,21570,1840,7558,1543\\r\\n1,2,17327,2374,2842,1149,351,925\\r\\n1,2,6987,1020,3007,416,257,656\\r\\n2,2,918,20655,13567,1465,6846,806\\r\\n1,2,7034,1492,2405,12569,299,1117\\r\\n1,2,29635,2335,8280,3046,371,117\\r\\n2,2,2137,3737,19172,1274,17120,142\\r\\n1,2,9784,925,2405,4447,183,297\\r\\n1,2,10617,1795,7647,1483,857,1233\\r\\n2,2,1479,14982,11924,662,3891,3508\\r\\n1,2,7127,1375,2201,2679,83,1059\\r\\n1,2,1182,3088,6114,978,821,1637\\r\\n1,2,11800,2713,3558,2121,706,51\\r\\n2,2,9759,25071,17645,1128,12408,1625\\r\\n1,2,1774,3696,2280,514,275,834\\r\\n1,2,9155,1897,5167,2714,228,1113\\r\\n1,2,15881,713,3315,3703,1470,229\\r\\n1,2,13360,944,11593,915,1679,573\\r\\n1,2,25977,3587,2464,2369,140,1092\\r\\n1,2,32717,16784,13626,60869,1272,5609\\r\\n1,2,4414,1610,1431,3498,387,834\\r\\n1,2,542,899,1664,414,88,522\\r\\n1,2,16933,2209,3389,7849,210,1534\\r\\n1,2,5113,1486,4583,5127,492,739\\r\\n1,2,9790,1786,5109,3570,182,1043\\r\\n2,2,11223,14881,26839,1234,9606,1102\\r\\n1,2,22321,3216,1447,2208,178,2602\\r\\n2,2,8565,4980,67298,131,38102,1215\\r\\n2,2,16823,928,2743,11559,332,3486\\r\\n2,2,27082,6817,10790,1365,4111,2139\\r\\n1,2,13970,1511,1330,650,146,778\\r\\n1,2,9351,1347,2611,8170,442,868\\r\\n1,2,3,333,7021,15601,15,550\\r\\n1,2,2617,1188,5332,9584,573,1942\\r\\n2,3,381,4025,9670,388,7271,1371\\r\\n2,3,2320,5763,11238,767,5162,2158\\r\\n1,3,255,5758,5923,349,4595,1328\\r\\n2,3,1689,6964,26316,1456,15469,37\\r\\n1,3,3043,1172,1763,2234,217,379\\r\\n1,3,1198,2602,8335,402,3843,303\\r\\n2,3,2771,6939,15541,2693,6600,1115\\r\\n2,3,27380,7184,12311,2809,4621,1022\\r\\n1,3,3428,2380,2028,1341,1184,665\\r\\n2,3,5981,14641,20521,2005,12218,445\\r\\n1,3,3521,1099,1997,1796,173,995\\r\\n2,3,1210,10044,22294,1741,12638,3137\\r\\n1,3,608,1106,1533,830,90,195\\r\\n2,3,117,6264,21203,228,8682,1111\\r\\n1,3,14039,7393,2548,6386,1333,2341\\r\\n1,3,190,727,2012,245,184,127\\r\\n1,3,22686,134,218,3157,9,548\\r\\n2,3,37,1275,22272,137,6747,110\\r\\n1,3,759,18664,1660,6114,536,4100\\r\\n1,3,796,5878,2109,340,232,776\\r\\n1,3,19746,2872,2006,2601,468,503\\r\\n1,3,4734,607,864,1206,159,405\\r\\n1,3,2121,1601,2453,560,179,712\\r\\n1,3,4627,997,4438,191,1335,314\\r\\n1,3,2615,873,1524,1103,514,468\\r\\n2,3,4692,6128,8025,1619,4515,3105\\r\\n1,3,9561,2217,1664,1173,222,447\\r\\n1,3,3477,894,534,1457,252,342\\r\\n1,3,22335,1196,2406,2046,101,558\\r\\n1,3,6211,337,683,1089,41,296\\r\\n2,3,39679,3944,4955,1364,523,2235\\r\\n1,3,20105,1887,1939,8164,716,790\\r\\n1,3,3884,3801,1641,876,397,4829\\r\\n2,3,15076,6257,7398,1504,1916,3113\\r\\n1,3,6338,2256,1668,1492,311,686\\r\\n1,3,5841,1450,1162,597,476,70\\r\\n2,3,3136,8630,13586,5641,4666,1426\\r\\n1,3,38793,3154,2648,1034,96,1242\\r\\n1,3,3225,3294,1902,282,68,1114\\r\\n2,3,4048,5164,10391,130,813,179\\r\\n1,3,28257,944,2146,3881,600,270\\r\\n1,3,17770,4591,1617,9927,246,532\\r\\n1,3,34454,7435,8469,2540,1711,2893\\r\\n1,3,1821,1364,3450,4006,397,361\\r\\n1,3,10683,21858,15400,3635,282,5120\\r\\n1,3,11635,922,1614,2583,192,1068\\r\\n1,3,1206,3620,2857,1945,353,967\\r\\n1,3,20918,1916,1573,1960,231,961\\r\\n1,3,9785,848,1172,1677,200,406\\r\\n1,3,9385,1530,1422,3019,227,684\\r\\n1,3,3352,1181,1328,5502,311,1000\\r\\n1,3,2647,2761,2313,907,95,1827\\r\\n1,3,518,4180,3600,659,122,654\\r\\n1,3,23632,6730,3842,8620,385,819\\r\\n1,3,12377,865,3204,1398,149,452\\r\\n1,3,9602,1316,1263,2921,841,290\\r\\n2,3,4515,11991,9345,2644,3378,2213\\r\\n1,3,11535,1666,1428,6838,64,743\\r\\n1,3,11442,1032,582,5390,74,247\\r\\n1,3,9612,577,935,1601,469,375\\r\\n1,3,4446,906,1238,3576,153,1014\\r\\n1,3,27167,2801,2128,13223,92,1902\\r\\n1,3,26539,4753,5091,220,10,340\\r\\n1,3,25606,11006,4604,127,632,288\\r\\n1,3,18073,4613,3444,4324,914,715\\r\\n1,3,6884,1046,1167,2069,593,378\\r\\n1,3,25066,5010,5026,9806,1092,960\\r\\n2,3,7362,12844,18683,2854,7883,553\\r\\n2,3,8257,3880,6407,1646,2730,344\\r\\n1,3,8708,3634,6100,2349,2123,5137\\r\\n1,3,6633,2096,4563,1389,1860,1892\\r\\n1,3,2126,3289,3281,1535,235,4365\\r\\n1,3,97,3605,12400,98,2970,62\\r\\n1,3,4983,4859,6633,17866,912,2435\\r\\n1,3,5969,1990,3417,5679,1135,290\\r\\n2,3,7842,6046,8552,1691,3540,1874\\r\\n2,3,4389,10940,10908,848,6728,993\\r\\n1,3,5065,5499,11055,364,3485,1063\\r\\n2,3,660,8494,18622,133,6740,776\\r\\n1,3,8861,3783,2223,633,1580,1521\\r\\n1,3,4456,5266,13227,25,6818,1393\\r\\n2,3,17063,4847,9053,1031,3415,1784\\r\\n1,3,26400,1377,4172,830,948,1218\\r\\n2,3,17565,3686,4657,1059,1803,668\\r\\n2,3,16980,2884,12232,874,3213,249\\r\\n1,3,11243,2408,2593,15348,108,1886\\r\\n1,3,13134,9347,14316,3141,5079,1894\\r\\n1,3,31012,16687,5429,15082,439,1163\\r\\n1,3,3047,5970,4910,2198,850,317\\r\\n1,3,8607,1750,3580,47,84,2501\\r\\n1,3,3097,4230,16483,575,241,2080\\r\\n1,3,8533,5506,5160,13486,1377,1498\\r\\n1,3,21117,1162,4754,269,1328,395\\r\\n1,3,1982,3218,1493,1541,356,1449\\r\\n1,3,16731,3922,7994,688,2371,838\\r\\n1,3,29703,12051,16027,13135,182,2204\\r\\n1,3,39228,1431,764,4510,93,2346\\r\\n2,3,14531,15488,30243,437,14841,1867\\r\\n1,3,10290,1981,2232,1038,168,2125\\r\\n1,3,2787,1698,2510,65,477,52\\r\\n'}"
            ]
          },
          "metadata": {
            "tags": []
          },
          "execution_count": 3
        }
      ]
    },
    {
      "cell_type": "markdown",
      "metadata": {
        "id": "IeNlCaFE_iPA",
        "colab_type": "text"
      },
      "source": [
        "## Reading training data from the below URL"
      ]
    },
    {
      "cell_type": "code",
      "metadata": {
        "id": "56Iw1__S_MTw",
        "colab_type": "code",
        "colab": {}
      },
      "source": [
        "url = 'https://archive.ics.uci.edu/ml/machine-learning-databases/00292/Wholesale%20customers%20data.csv'\n",
        "df = pd.read_csv(url)"
      ],
      "execution_count": 0,
      "outputs": []
    },
    {
      "cell_type": "code",
      "metadata": {
        "id": "Kvnm6Wxa-6vT",
        "colab_type": "code",
        "colab": {
          "base_uri": "https://localhost:8080/",
          "height": 197
        },
        "outputId": "2476bbdc-b44b-433d-bb85-36cace09beae"
      },
      "source": [
        "df.head()"
      ],
      "execution_count": 9,
      "outputs": [
        {
          "output_type": "execute_result",
          "data": {
            "text/html": [
              "<div>\n",
              "<style scoped>\n",
              "    .dataframe tbody tr th:only-of-type {\n",
              "        vertical-align: middle;\n",
              "    }\n",
              "\n",
              "    .dataframe tbody tr th {\n",
              "        vertical-align: top;\n",
              "    }\n",
              "\n",
              "    .dataframe thead th {\n",
              "        text-align: right;\n",
              "    }\n",
              "</style>\n",
              "<table border=\"1\" class=\"dataframe\">\n",
              "  <thead>\n",
              "    <tr style=\"text-align: right;\">\n",
              "      <th></th>\n",
              "      <th>Channel</th>\n",
              "      <th>Region</th>\n",
              "      <th>Fresh</th>\n",
              "      <th>Milk</th>\n",
              "      <th>Grocery</th>\n",
              "      <th>Frozen</th>\n",
              "      <th>Detergents_Paper</th>\n",
              "      <th>Delicassen</th>\n",
              "    </tr>\n",
              "  </thead>\n",
              "  <tbody>\n",
              "    <tr>\n",
              "      <th>0</th>\n",
              "      <td>2</td>\n",
              "      <td>3</td>\n",
              "      <td>12669</td>\n",
              "      <td>9656</td>\n",
              "      <td>7561</td>\n",
              "      <td>214</td>\n",
              "      <td>2674</td>\n",
              "      <td>1338</td>\n",
              "    </tr>\n",
              "    <tr>\n",
              "      <th>1</th>\n",
              "      <td>2</td>\n",
              "      <td>3</td>\n",
              "      <td>7057</td>\n",
              "      <td>9810</td>\n",
              "      <td>9568</td>\n",
              "      <td>1762</td>\n",
              "      <td>3293</td>\n",
              "      <td>1776</td>\n",
              "    </tr>\n",
              "    <tr>\n",
              "      <th>2</th>\n",
              "      <td>2</td>\n",
              "      <td>3</td>\n",
              "      <td>6353</td>\n",
              "      <td>8808</td>\n",
              "      <td>7684</td>\n",
              "      <td>2405</td>\n",
              "      <td>3516</td>\n",
              "      <td>7844</td>\n",
              "    </tr>\n",
              "    <tr>\n",
              "      <th>3</th>\n",
              "      <td>1</td>\n",
              "      <td>3</td>\n",
              "      <td>13265</td>\n",
              "      <td>1196</td>\n",
              "      <td>4221</td>\n",
              "      <td>6404</td>\n",
              "      <td>507</td>\n",
              "      <td>1788</td>\n",
              "    </tr>\n",
              "    <tr>\n",
              "      <th>4</th>\n",
              "      <td>2</td>\n",
              "      <td>3</td>\n",
              "      <td>22615</td>\n",
              "      <td>5410</td>\n",
              "      <td>7198</td>\n",
              "      <td>3915</td>\n",
              "      <td>1777</td>\n",
              "      <td>5185</td>\n",
              "    </tr>\n",
              "  </tbody>\n",
              "</table>\n",
              "</div>"
            ],
            "text/plain": [
              "   Channel  Region  Fresh  Milk  Grocery  Frozen  Detergents_Paper  Delicassen\n",
              "0        2       3  12669  9656     7561     214              2674        1338\n",
              "1        2       3   7057  9810     9568    1762              3293        1776\n",
              "2        2       3   6353  8808     7684    2405              3516        7844\n",
              "3        1       3  13265  1196     4221    6404               507        1788\n",
              "4        2       3  22615  5410     7198    3915              1777        5185"
            ]
          },
          "metadata": {
            "tags": []
          },
          "execution_count": 9
        }
      ]
    },
    {
      "cell_type": "markdown",
      "metadata": {
        "id": "V_cSOn-0_orP",
        "colab_type": "text"
      },
      "source": [
        "## Descriptive Statistics"
      ]
    },
    {
      "cell_type": "code",
      "metadata": {
        "id": "4OaipwYK_sAY",
        "colab_type": "code",
        "colab": {
          "base_uri": "https://localhost:8080/",
          "height": 287
        },
        "outputId": "ff3ae5d6-35d5-4053-85f8-2cea73b76372"
      },
      "source": [
        "df.describe()"
      ],
      "execution_count": 10,
      "outputs": [
        {
          "output_type": "execute_result",
          "data": {
            "text/html": [
              "<div>\n",
              "<style scoped>\n",
              "    .dataframe tbody tr th:only-of-type {\n",
              "        vertical-align: middle;\n",
              "    }\n",
              "\n",
              "    .dataframe tbody tr th {\n",
              "        vertical-align: top;\n",
              "    }\n",
              "\n",
              "    .dataframe thead th {\n",
              "        text-align: right;\n",
              "    }\n",
              "</style>\n",
              "<table border=\"1\" class=\"dataframe\">\n",
              "  <thead>\n",
              "    <tr style=\"text-align: right;\">\n",
              "      <th></th>\n",
              "      <th>Channel</th>\n",
              "      <th>Region</th>\n",
              "      <th>Fresh</th>\n",
              "      <th>Milk</th>\n",
              "      <th>Grocery</th>\n",
              "      <th>Frozen</th>\n",
              "      <th>Detergents_Paper</th>\n",
              "      <th>Delicassen</th>\n",
              "    </tr>\n",
              "  </thead>\n",
              "  <tbody>\n",
              "    <tr>\n",
              "      <th>count</th>\n",
              "      <td>440.000000</td>\n",
              "      <td>440.000000</td>\n",
              "      <td>440.000000</td>\n",
              "      <td>440.000000</td>\n",
              "      <td>440.000000</td>\n",
              "      <td>440.000000</td>\n",
              "      <td>440.000000</td>\n",
              "      <td>440.000000</td>\n",
              "    </tr>\n",
              "    <tr>\n",
              "      <th>mean</th>\n",
              "      <td>1.322727</td>\n",
              "      <td>2.543182</td>\n",
              "      <td>12000.297727</td>\n",
              "      <td>5796.265909</td>\n",
              "      <td>7951.277273</td>\n",
              "      <td>3071.931818</td>\n",
              "      <td>2881.493182</td>\n",
              "      <td>1524.870455</td>\n",
              "    </tr>\n",
              "    <tr>\n",
              "      <th>std</th>\n",
              "      <td>0.468052</td>\n",
              "      <td>0.774272</td>\n",
              "      <td>12647.328865</td>\n",
              "      <td>7380.377175</td>\n",
              "      <td>9503.162829</td>\n",
              "      <td>4854.673333</td>\n",
              "      <td>4767.854448</td>\n",
              "      <td>2820.105937</td>\n",
              "    </tr>\n",
              "    <tr>\n",
              "      <th>min</th>\n",
              "      <td>1.000000</td>\n",
              "      <td>1.000000</td>\n",
              "      <td>3.000000</td>\n",
              "      <td>55.000000</td>\n",
              "      <td>3.000000</td>\n",
              "      <td>25.000000</td>\n",
              "      <td>3.000000</td>\n",
              "      <td>3.000000</td>\n",
              "    </tr>\n",
              "    <tr>\n",
              "      <th>25%</th>\n",
              "      <td>1.000000</td>\n",
              "      <td>2.000000</td>\n",
              "      <td>3127.750000</td>\n",
              "      <td>1533.000000</td>\n",
              "      <td>2153.000000</td>\n",
              "      <td>742.250000</td>\n",
              "      <td>256.750000</td>\n",
              "      <td>408.250000</td>\n",
              "    </tr>\n",
              "    <tr>\n",
              "      <th>50%</th>\n",
              "      <td>1.000000</td>\n",
              "      <td>3.000000</td>\n",
              "      <td>8504.000000</td>\n",
              "      <td>3627.000000</td>\n",
              "      <td>4755.500000</td>\n",
              "      <td>1526.000000</td>\n",
              "      <td>816.500000</td>\n",
              "      <td>965.500000</td>\n",
              "    </tr>\n",
              "    <tr>\n",
              "      <th>75%</th>\n",
              "      <td>2.000000</td>\n",
              "      <td>3.000000</td>\n",
              "      <td>16933.750000</td>\n",
              "      <td>7190.250000</td>\n",
              "      <td>10655.750000</td>\n",
              "      <td>3554.250000</td>\n",
              "      <td>3922.000000</td>\n",
              "      <td>1820.250000</td>\n",
              "    </tr>\n",
              "    <tr>\n",
              "      <th>max</th>\n",
              "      <td>2.000000</td>\n",
              "      <td>3.000000</td>\n",
              "      <td>112151.000000</td>\n",
              "      <td>73498.000000</td>\n",
              "      <td>92780.000000</td>\n",
              "      <td>60869.000000</td>\n",
              "      <td>40827.000000</td>\n",
              "      <td>47943.000000</td>\n",
              "    </tr>\n",
              "  </tbody>\n",
              "</table>\n",
              "</div>"
            ],
            "text/plain": [
              "          Channel      Region  ...  Detergents_Paper    Delicassen\n",
              "count  440.000000  440.000000  ...        440.000000    440.000000\n",
              "mean     1.322727    2.543182  ...       2881.493182   1524.870455\n",
              "std      0.468052    0.774272  ...       4767.854448   2820.105937\n",
              "min      1.000000    1.000000  ...          3.000000      3.000000\n",
              "25%      1.000000    2.000000  ...        256.750000    408.250000\n",
              "50%      1.000000    3.000000  ...        816.500000    965.500000\n",
              "75%      2.000000    3.000000  ...       3922.000000   1820.250000\n",
              "max      2.000000    3.000000  ...      40827.000000  47943.000000\n",
              "\n",
              "[8 rows x 8 columns]"
            ]
          },
          "metadata": {
            "tags": []
          },
          "execution_count": 10
        }
      ]
    },
    {
      "cell_type": "markdown",
      "metadata": {
        "id": "eL3UUYSaAcNw",
        "colab_type": "text"
      },
      "source": [
        "## Genearte Customer segment using KMeans Clustering"
      ]
    },
    {
      "cell_type": "code",
      "metadata": {
        "id": "3oEEoJK_Ah9X",
        "colab_type": "code",
        "colab": {}
      },
      "source": [
        "from sklearn.cluster  import KMeans\n",
        "from sklearn.preprocessing import MinMaxScaler\n",
        "sum_of_squared_errors = []\n",
        "for k in range(10,110,10):\n",
        "  kmeans = KMeans(n_clusters=k)\n",
        "  kmeans.fit(df.values)\n",
        "  sum_of_squared_errors.append(kmeans.inertia_)\n"
      ],
      "execution_count": 0,
      "outputs": []
    },
    {
      "cell_type": "markdown",
      "metadata": {
        "id": "K7njyNZ3CAA1",
        "colab_type": "text"
      },
      "source": [
        "## finding optimum k value"
      ]
    },
    {
      "cell_type": "code",
      "metadata": {
        "id": "zU830J-qCDNX",
        "colab_type": "code",
        "colab": {
          "base_uri": "https://localhost:8080/",
          "height": 531
        },
        "outputId": "1b476702-a979-4bca-95b6-9f05994a7b14"
      },
      "source": [
        "import matplotlib.pyplot as plt\n",
        "plt.figure(figsize=(11,8))\n",
        "plt.plot([k for k in range(10,110,10)],sum_of_squared_errors,'bx-')\n",
        "plt.xlabel('Number of Clusters')\n",
        "plt.ylabel('Sum Of Squared Errors')\n",
        "plt.title('Finding Optimum K value')"
      ],
      "execution_count": 16,
      "outputs": [
        {
          "output_type": "execute_result",
          "data": {
            "text/plain": [
              "Text(0.5, 1.0, 'Finding Optimum K value')"
            ]
          },
          "metadata": {
            "tags": []
          },
          "execution_count": 16
        },
        {
          "output_type": "display_data",
          "data": {
            "image/png": "[encoded data removed]",
            "text/plain": [
              "<Figure size 792x576 with 1 Axes>"
            ]
          },
          "metadata": {
            "tags": []
          }
        }
      ]
    },
    {
      "cell_type": "code",
      "metadata": {
        "id": "4YIj9rW0DWUf",
        "colab_type": "code",
        "colab": {
          "base_uri": "https://localhost:8080/",
          "height": 347
        },
        "outputId": "a399b641-95a3-4f94-ad17-59a20dc12e5b"
      },
      "source": [
        "df_k = pd.DataFrame({'k':[k for k in range(10,110,10)],'SSE':[np.round(val,5) for val in sum_of_squared_errors]})\n",
        "df_k"
      ],
      "execution_count": 25,
      "outputs": [
        {
          "output_type": "execute_result",
          "data": {
            "text/html": [
              "<div>\n",
              "<style scoped>\n",
              "    .dataframe tbody tr th:only-of-type {\n",
              "        vertical-align: middle;\n",
              "    }\n",
              "\n",
              "    .dataframe tbody tr th {\n",
              "        vertical-align: top;\n",
              "    }\n",
              "\n",
              "    .dataframe thead th {\n",
              "        text-align: right;\n",
              "    }\n",
              "</style>\n",
              "<table border=\"1\" class=\"dataframe\">\n",
              "  <thead>\n",
              "    <tr style=\"text-align: right;\">\n",
              "      <th></th>\n",
              "      <th>k</th>\n",
              "      <th>SSE</th>\n",
              "    </tr>\n",
              "  </thead>\n",
              "  <tbody>\n",
              "    <tr>\n",
              "      <th>0</th>\n",
              "      <td>10</td>\n",
              "      <td>3.118269e+10</td>\n",
              "    </tr>\n",
              "    <tr>\n",
              "      <th>1</th>\n",
              "      <td>20</td>\n",
              "      <td>1.551827e+10</td>\n",
              "    </tr>\n",
              "    <tr>\n",
              "      <th>2</th>\n",
              "      <td>30</td>\n",
              "      <td>1.051617e+10</td>\n",
              "    </tr>\n",
              "    <tr>\n",
              "      <th>3</th>\n",
              "      <td>40</td>\n",
              "      <td>7.624562e+09</td>\n",
              "    </tr>\n",
              "    <tr>\n",
              "      <th>4</th>\n",
              "      <td>50</td>\n",
              "      <td>6.052865e+09</td>\n",
              "    </tr>\n",
              "    <tr>\n",
              "      <th>5</th>\n",
              "      <td>60</td>\n",
              "      <td>5.058437e+09</td>\n",
              "    </tr>\n",
              "    <tr>\n",
              "      <th>6</th>\n",
              "      <td>70</td>\n",
              "      <td>4.199056e+09</td>\n",
              "    </tr>\n",
              "    <tr>\n",
              "      <th>7</th>\n",
              "      <td>80</td>\n",
              "      <td>3.621078e+09</td>\n",
              "    </tr>\n",
              "    <tr>\n",
              "      <th>8</th>\n",
              "      <td>90</td>\n",
              "      <td>3.125991e+09</td>\n",
              "    </tr>\n",
              "    <tr>\n",
              "      <th>9</th>\n",
              "      <td>100</td>\n",
              "      <td>2.724411e+09</td>\n",
              "    </tr>\n",
              "  </tbody>\n",
              "</table>\n",
              "</div>"
            ],
            "text/plain": [
              "     k           SSE\n",
              "0   10  3.118269e+10\n",
              "1   20  1.551827e+10\n",
              "2   30  1.051617e+10\n",
              "3   40  7.624562e+09\n",
              "4   50  6.052865e+09\n",
              "5   60  5.058437e+09\n",
              "6   70  4.199056e+09\n",
              "7   80  3.621078e+09\n",
              "8   90  3.125991e+09\n",
              "9  100  2.724411e+09"
            ]
          },
          "metadata": {
            "tags": []
          },
          "execution_count": 25
        }
      ]
    },
    {
      "cell_type": "markdown",
      "metadata": {
        "id": "g_pEuUUxDQhc",
        "colab_type": "text"
      },
      "source": [
        "## optimum k value determined to be 30"
      ]
    },
    {
      "cell_type": "code",
      "metadata": {
        "id": "JQ0Yp3nWEfh5",
        "colab_type": "code",
        "colab": {}
      },
      "source": [
        "kmeans = KMeans(n_clusters=30,max_iter=100,random_state=1)\n",
        "kmeans.fit(df.values)\n",
        "cluster = kmeans.predict(df.values)"
      ],
      "execution_count": 0,
      "outputs": []
    },
    {
      "cell_type": "code",
      "metadata": {
        "id": "Gnz0WdbvE0GA",
        "colab_type": "code",
        "colab": {}
      },
      "source": [
        "df['Customer_Segment'] = cluster"
      ],
      "execution_count": 0,
      "outputs": []
    },
    {
      "cell_type": "code",
      "metadata": {
        "id": "shvJGBQ2E7rY",
        "colab_type": "code",
        "colab": {
          "base_uri": "https://localhost:8080/",
          "height": 197
        },
        "outputId": "bd195ef6-ca38-444d-d545-73a408faa920"
      },
      "source": [
        "df.head()"
      ],
      "execution_count": 28,
      "outputs": [
        {
          "output_type": "execute_result",
          "data": {
            "text/html": [
              "<div>\n",
              "<style scoped>\n",
              "    .dataframe tbody tr th:only-of-type {\n",
              "        vertical-align: middle;\n",
              "    }\n",
              "\n",
              "    .dataframe tbody tr th {\n",
              "        vertical-align: top;\n",
              "    }\n",
              "\n",
              "    .dataframe thead th {\n",
              "        text-align: right;\n",
              "    }\n",
              "</style>\n",
              "<table border=\"1\" class=\"dataframe\">\n",
              "  <thead>\n",
              "    <tr style=\"text-align: right;\">\n",
              "      <th></th>\n",
              "      <th>Channel</th>\n",
              "      <th>Region</th>\n",
              "      <th>Fresh</th>\n",
              "      <th>Milk</th>\n",
              "      <th>Grocery</th>\n",
              "      <th>Frozen</th>\n",
              "      <th>Detergents_Paper</th>\n",
              "      <th>Delicassen</th>\n",
              "      <th>Customer_Segment</th>\n",
              "    </tr>\n",
              "  </thead>\n",
              "  <tbody>\n",
              "    <tr>\n",
              "      <th>0</th>\n",
              "      <td>2</td>\n",
              "      <td>3</td>\n",
              "      <td>12669</td>\n",
              "      <td>9656</td>\n",
              "      <td>7561</td>\n",
              "      <td>214</td>\n",
              "      <td>2674</td>\n",
              "      <td>1338</td>\n",
              "      <td>10</td>\n",
              "    </tr>\n",
              "    <tr>\n",
              "      <th>1</th>\n",
              "      <td>2</td>\n",
              "      <td>3</td>\n",
              "      <td>7057</td>\n",
              "      <td>9810</td>\n",
              "      <td>9568</td>\n",
              "      <td>1762</td>\n",
              "      <td>3293</td>\n",
              "      <td>1776</td>\n",
              "      <td>10</td>\n",
              "    </tr>\n",
              "    <tr>\n",
              "      <th>2</th>\n",
              "      <td>2</td>\n",
              "      <td>3</td>\n",
              "      <td>6353</td>\n",
              "      <td>8808</td>\n",
              "      <td>7684</td>\n",
              "      <td>2405</td>\n",
              "      <td>3516</td>\n",
              "      <td>7844</td>\n",
              "      <td>10</td>\n",
              "    </tr>\n",
              "    <tr>\n",
              "      <th>3</th>\n",
              "      <td>1</td>\n",
              "      <td>3</td>\n",
              "      <td>13265</td>\n",
              "      <td>1196</td>\n",
              "      <td>4221</td>\n",
              "      <td>6404</td>\n",
              "      <td>507</td>\n",
              "      <td>1788</td>\n",
              "      <td>17</td>\n",
              "    </tr>\n",
              "    <tr>\n",
              "      <th>4</th>\n",
              "      <td>2</td>\n",
              "      <td>3</td>\n",
              "      <td>22615</td>\n",
              "      <td>5410</td>\n",
              "      <td>7198</td>\n",
              "      <td>3915</td>\n",
              "      <td>1777</td>\n",
              "      <td>5185</td>\n",
              "      <td>14</td>\n",
              "    </tr>\n",
              "  </tbody>\n",
              "</table>\n",
              "</div>"
            ],
            "text/plain": [
              "   Channel  Region  Fresh  ...  Detergents_Paper  Delicassen  Customer_Segment\n",
              "0        2       3  12669  ...              2674        1338                10\n",
              "1        2       3   7057  ...              3293        1776                10\n",
              "2        2       3   6353  ...              3516        7844                10\n",
              "3        1       3  13265  ...               507        1788                17\n",
              "4        2       3  22615  ...              1777        5185                14\n",
              "\n",
              "[5 rows x 9 columns]"
            ]
          },
          "metadata": {
            "tags": []
          },
          "execution_count": 28
        }
      ]
    },
    {
      "cell_type": "code",
      "metadata": {
        "id": "MxbJ8VNYFFaA",
        "colab_type": "code",
        "colab": {}
      },
      "source": [
        "test_data = np.array([2,3,22615,5410,7198,3915,1777,5185])\n"
      ],
      "execution_count": 0,
      "outputs": []
    },
    {
      "cell_type": "markdown",
      "metadata": {
        "id": "zyKdWswNGKNI",
        "colab_type": "text"
      },
      "source": [
        "## reformating the test data to have 8 fetures and 1 row"
      ]
    },
    {
      "cell_type": "code",
      "metadata": {
        "id": "cgVxRexsF4xQ",
        "colab_type": "code",
        "colab": {
          "base_uri": "https://localhost:8080/",
          "height": 34
        },
        "outputId": "f2ec4df7-82d0-46b3-916b-435de3ff3e92"
      },
      "source": [
        "print(f'cluster predicted : {kmeans.predict(test_data.reshape(1,8))}')"
      ],
      "execution_count": 38,
      "outputs": [
        {
          "output_type": "stream",
          "text": [
            "cluster predicted : [14]\n"
          ],
          "name": "stdout"
        }
      ]
    }
  ]
}