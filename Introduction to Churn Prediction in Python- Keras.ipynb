{
 "cells": [
  {
   "cell_type": "markdown",
   "metadata": {},
   "source": [
    "#### Problem Statement :\n",
    "    \n",
    "Using an artificial neural network to predict customers who leave the bank."
   ]
  },
  {
   "cell_type": "markdown",
   "metadata": {},
   "source": [
    "#### What is Churn and Why Does it Matter?\n",
    "\n",
    "Churn is defined slightly differently by each organization or product. \n",
    "\n",
    "Generally, the customers who stop using a product or service for a given period of time are referred to as churners. \n",
    "\n",
    "As a result, churn is one of the most important elements in the Key Performance Indicator (KPI) of a product or service.\n",
    "\n",
    "A full customer lifecycle analysis requires taking a look at retention rates in order to better understand the health of the business or product. "
   ]
  },
  {
   "cell_type": "markdown",
   "metadata": {},
   "source": [
    "From a machine learning perspective, churn can be formulated as a binary classification problem. Although there are other approaches to churn prediction (for example, survival analysis), the most common solution is to label “churners” over a specific period of time as one class and users who stay engaged with the product as the complementary class.  "
   ]
  },
  {
   "cell_type": "markdown",
   "metadata": {},
   "source": [
    "The way many data analysts try to model this problem is by thinking in black-and-white terms: churn vs no-churn. It’s really easy to view the problem in this way as it’s a pattern we all know — supervised classification."
   ]
  },
  {
   "cell_type": "markdown",
   "metadata": {},
   "source": [
    "#### Data Attributes and Labels \n",
    "\n",
    "The initial ingredient for building any predictive pipeline is data. For churn specifically, historical data is captured and stored in a data warehouse, depending on the application domain. The process of churn definition and establishing data hooks to capture relevant events is highly iterative. It is very important to keep this in mind as the initial churn definition, with its associated data hooks, may not be applicable or relevant anymore as a product or a service matures. That’s why it’s essential for data scientists to not only monitor the performance of the predictive pipeline over time but also to pay close attention to the alignment of churn definition with the product’s changes as they might affect who the churners are.\n",
    "\n",
    "The specific attributes used in a churn model are highly domain dependent. However, broadly speaking, the most common attributes capture user behavior with regards to engagement level with a product or service. This can be thought of as the number of times that a user logs into her/his account in a week or the amount of time that a user spends on a portal. In short, frequency and intensity of usage/engagement are among the strongest signals to predict churn."
   ]
  },
  {
   "cell_type": "code",
   "execution_count": 1,
   "metadata": {
    "collapsed": true
   },
   "outputs": [],
   "source": [
    "# Importing the libraries\n",
    "import numpy as np\n",
    "import matplotlib.pyplot as plt\n",
    "import pandas as pd\n",
    "%matplotlib inline\n"
   ]
  },
  {
   "cell_type": "markdown",
   "metadata": {},
   "source": [
    "#### Dataset Details "
   ]
  },
  {
   "cell_type": "code",
   "execution_count": 2,
   "metadata": {},
   "outputs": [
    {
     "data": {
      "text/html": [
       "<div>\n",
       "<style>\n",
       "    .dataframe thead tr:only-child th {\n",
       "        text-align: right;\n",
       "    }\n",
       "\n",
       "    .dataframe thead th {\n",
       "        text-align: left;\n",
       "    }\n",
       "\n",
       "    .dataframe tbody tr th {\n",
       "        vertical-align: top;\n",
       "    }\n",
       "</style>\n",
       "<table border=\"1\" class=\"dataframe\">\n",
       "  <thead>\n",
       "    <tr style=\"text-align: right;\">\n",
       "      <th></th>\n",
       "      <th>RowNumber</th>\n",
       "      <th>CustomerId</th>\n",
       "      <th>Surname</th>\n",
       "      <th>CreditScore</th>\n",
       "      <th>Geography</th>\n",
       "      <th>Gender</th>\n",
       "      <th>Age</th>\n",
       "      <th>Tenure</th>\n",
       "      <th>Balance</th>\n",
       "      <th>NumOfProducts</th>\n",
       "      <th>HasCrCard</th>\n",
       "      <th>IsActiveMember</th>\n",
       "      <th>EstimatedSalary</th>\n",
       "      <th>Exited</th>\n",
       "    </tr>\n",
       "  </thead>\n",
       "  <tbody>\n",
       "    <tr>\n",
       "      <th>0</th>\n",
       "      <td>1</td>\n",
       "      <td>15634602</td>\n",
       "      <td>Hargrave</td>\n",
       "      <td>619</td>\n",
       "      <td>France</td>\n",
       "      <td>Female</td>\n",
       "      <td>42</td>\n",
       "      <td>2</td>\n",
       "      <td>0.00</td>\n",
       "      <td>1</td>\n",
       "      <td>1</td>\n",
       "      <td>1</td>\n",
       "      <td>101348.88</td>\n",
       "      <td>1</td>\n",
       "    </tr>\n",
       "    <tr>\n",
       "      <th>1</th>\n",
       "      <td>2</td>\n",
       "      <td>15647311</td>\n",
       "      <td>Hill</td>\n",
       "      <td>608</td>\n",
       "      <td>Spain</td>\n",
       "      <td>Female</td>\n",
       "      <td>41</td>\n",
       "      <td>1</td>\n",
       "      <td>83807.86</td>\n",
       "      <td>1</td>\n",
       "      <td>0</td>\n",
       "      <td>1</td>\n",
       "      <td>112542.58</td>\n",
       "      <td>0</td>\n",
       "    </tr>\n",
       "    <tr>\n",
       "      <th>2</th>\n",
       "      <td>3</td>\n",
       "      <td>15619304</td>\n",
       "      <td>Onio</td>\n",
       "      <td>502</td>\n",
       "      <td>France</td>\n",
       "      <td>Female</td>\n",
       "      <td>42</td>\n",
       "      <td>8</td>\n",
       "      <td>159660.80</td>\n",
       "      <td>3</td>\n",
       "      <td>1</td>\n",
       "      <td>0</td>\n",
       "      <td>113931.57</td>\n",
       "      <td>1</td>\n",
       "    </tr>\n",
       "    <tr>\n",
       "      <th>3</th>\n",
       "      <td>4</td>\n",
       "      <td>15701354</td>\n",
       "      <td>Boni</td>\n",
       "      <td>699</td>\n",
       "      <td>France</td>\n",
       "      <td>Female</td>\n",
       "      <td>39</td>\n",
       "      <td>1</td>\n",
       "      <td>0.00</td>\n",
       "      <td>2</td>\n",
       "      <td>0</td>\n",
       "      <td>0</td>\n",
       "      <td>93826.63</td>\n",
       "      <td>0</td>\n",
       "    </tr>\n",
       "    <tr>\n",
       "      <th>4</th>\n",
       "      <td>5</td>\n",
       "      <td>15737888</td>\n",
       "      <td>Mitchell</td>\n",
       "      <td>850</td>\n",
       "      <td>Spain</td>\n",
       "      <td>Female</td>\n",
       "      <td>43</td>\n",
       "      <td>2</td>\n",
       "      <td>125510.82</td>\n",
       "      <td>1</td>\n",
       "      <td>1</td>\n",
       "      <td>1</td>\n",
       "      <td>79084.10</td>\n",
       "      <td>0</td>\n",
       "    </tr>\n",
       "  </tbody>\n",
       "</table>\n",
       "</div>"
      ],
      "text/plain": [
       "   RowNumber  CustomerId   Surname  CreditScore Geography  Gender  Age  \\\n",
       "0          1    15634602  Hargrave          619    France  Female   42   \n",
       "1          2    15647311      Hill          608     Spain  Female   41   \n",
       "2          3    15619304      Onio          502    France  Female   42   \n",
       "3          4    15701354      Boni          699    France  Female   39   \n",
       "4          5    15737888  Mitchell          850     Spain  Female   43   \n",
       "\n",
       "   Tenure    Balance  NumOfProducts  HasCrCard  IsActiveMember  \\\n",
       "0       2       0.00              1          1               1   \n",
       "1       1   83807.86              1          0               1   \n",
       "2       8  159660.80              3          1               0   \n",
       "3       1       0.00              2          0               0   \n",
       "4       2  125510.82              1          1               1   \n",
       "\n",
       "   EstimatedSalary  Exited  \n",
       "0        101348.88       1  \n",
       "1        112542.58       0  \n",
       "2        113931.57       1  \n",
       "3         93826.63       0  \n",
       "4         79084.10       0  "
      ]
     },
     "execution_count": 2,
     "metadata": {},
     "output_type": "execute_result"
    }
   ],
   "source": [
    "# Importing the dataset\n",
    "dataset = pd.read_csv('Churn_Modelling.csv')\n",
    "dataset.head()"
   ]
  },
  {
   "cell_type": "code",
   "execution_count": 3,
   "metadata": {},
   "outputs": [
    {
     "data": {
      "text/plain": [
       "(10000, 14)"
      ]
     },
     "execution_count": 3,
     "metadata": {},
     "output_type": "execute_result"
    }
   ],
   "source": [
    "dataset.shape"
   ]
  },
  {
   "cell_type": "code",
   "execution_count": 9,
   "metadata": {},
   "outputs": [
    {
     "data": {
      "text/plain": [
       "Index(['RowNumber', 'CustomerId', 'Surname', 'CreditScore', 'Geography',\n",
       "       'Gender', 'Age', 'Tenure', 'Balance', 'NumOfProducts', 'HasCrCard',\n",
       "       'IsActiveMember', 'EstimatedSalary', 'Exited'],\n",
       "      dtype='object')"
      ]
     },
     "execution_count": 9,
     "metadata": {},
     "output_type": "execute_result"
    }
   ],
   "source": [
    "dataset.columns"
   ]
  },
  {
   "cell_type": "markdown",
   "metadata": {},
   "source": [
    "Here Features or predictor varaibales are columns 3 to 13, i.e columns RowNumber, CutomerId , Surname are of no importance in predicting whether a customer will stay or leave the bank.\n",
    "\n",
    "Labels in the dataset is the Exited column"
   ]
  },
  {
   "cell_type": "code",
   "execution_count": null,
   "metadata": {
    "collapsed": true
   },
   "outputs": [],
   "source": []
  },
  {
   "cell_type": "code",
   "execution_count": 5,
   "metadata": {},
   "outputs": [
    {
     "name": "stdout",
     "output_type": "stream",
     "text": [
      "<class 'pandas.core.frame.DataFrame'>\n",
      "RangeIndex: 10000 entries, 0 to 9999\n",
      "Data columns (total 14 columns):\n",
      "RowNumber          10000 non-null int64\n",
      "CustomerId         10000 non-null int64\n",
      "Surname            10000 non-null object\n",
      "CreditScore        10000 non-null int64\n",
      "Geography          10000 non-null object\n",
      "Gender             10000 non-null object\n",
      "Age                10000 non-null int64\n",
      "Tenure             10000 non-null int64\n",
      "Balance            10000 non-null float64\n",
      "NumOfProducts      10000 non-null int64\n",
      "HasCrCard          10000 non-null int64\n",
      "IsActiveMember     10000 non-null int64\n",
      "EstimatedSalary    10000 non-null float64\n",
      "Exited             10000 non-null int64\n",
      "dtypes: float64(2), int64(9), object(3)\n",
      "memory usage: 1.1+ MB\n"
     ]
    }
   ],
   "source": [
    "dataset.info()"
   ]
  },
  {
   "cell_type": "code",
   "execution_count": 10,
   "metadata": {},
   "outputs": [
    {
     "data": {
      "text/html": [
       "<div>\n",
       "<style>\n",
       "    .dataframe thead tr:only-child th {\n",
       "        text-align: right;\n",
       "    }\n",
       "\n",
       "    .dataframe thead th {\n",
       "        text-align: left;\n",
       "    }\n",
       "\n",
       "    .dataframe tbody tr th {\n",
       "        vertical-align: top;\n",
       "    }\n",
       "</style>\n",
       "<table border=\"1\" class=\"dataframe\">\n",
       "  <thead>\n",
       "    <tr style=\"text-align: right;\">\n",
       "      <th></th>\n",
       "      <th>Geography_France</th>\n",
       "      <th>Geography_Germany</th>\n",
       "      <th>Geography_Spain</th>\n",
       "      <th>Gender_Female</th>\n",
       "      <th>Gender_Male</th>\n",
       "    </tr>\n",
       "  </thead>\n",
       "  <tbody>\n",
       "    <tr>\n",
       "      <th>0</th>\n",
       "      <td>1</td>\n",
       "      <td>0</td>\n",
       "      <td>0</td>\n",
       "      <td>1</td>\n",
       "      <td>0</td>\n",
       "    </tr>\n",
       "    <tr>\n",
       "      <th>1</th>\n",
       "      <td>0</td>\n",
       "      <td>0</td>\n",
       "      <td>1</td>\n",
       "      <td>1</td>\n",
       "      <td>0</td>\n",
       "    </tr>\n",
       "    <tr>\n",
       "      <th>2</th>\n",
       "      <td>1</td>\n",
       "      <td>0</td>\n",
       "      <td>0</td>\n",
       "      <td>1</td>\n",
       "      <td>0</td>\n",
       "    </tr>\n",
       "    <tr>\n",
       "      <th>3</th>\n",
       "      <td>1</td>\n",
       "      <td>0</td>\n",
       "      <td>0</td>\n",
       "      <td>1</td>\n",
       "      <td>0</td>\n",
       "    </tr>\n",
       "    <tr>\n",
       "      <th>4</th>\n",
       "      <td>0</td>\n",
       "      <td>0</td>\n",
       "      <td>1</td>\n",
       "      <td>1</td>\n",
       "      <td>0</td>\n",
       "    </tr>\n",
       "  </tbody>\n",
       "</table>\n",
       "</div>"
      ],
      "text/plain": [
       "   Geography_France  Geography_Germany  Geography_Spain  Gender_Female  \\\n",
       "0                 1                  0                0              1   \n",
       "1                 0                  0                1              1   \n",
       "2                 1                  0                0              1   \n",
       "3                 1                  0                0              1   \n",
       "4                 0                  0                1              1   \n",
       "\n",
       "   Gender_Male  \n",
       "0            0  \n",
       "1            0  \n",
       "2            0  \n",
       "3            0  \n",
       "4            0  "
      ]
     },
     "execution_count": 10,
     "metadata": {},
     "output_type": "execute_result"
    }
   ],
   "source": [
    "# OnehotEncoding categorical data to numeric data\n",
    "# because ANN's can only work with numeric Geography and Gender columns contain categorical data\n",
    "dummies = pd.get_dummies(dataset[['Geography','Gender']])\n",
    "dummies.head()"
   ]
  },
  {
   "cell_type": "code",
   "execution_count": 11,
   "metadata": {},
   "outputs": [
    {
     "data": {
      "text/html": [
       "<div>\n",
       "<style>\n",
       "    .dataframe thead tr:only-child th {\n",
       "        text-align: right;\n",
       "    }\n",
       "\n",
       "    .dataframe thead th {\n",
       "        text-align: left;\n",
       "    }\n",
       "\n",
       "    .dataframe tbody tr th {\n",
       "        vertical-align: top;\n",
       "    }\n",
       "</style>\n",
       "<table border=\"1\" class=\"dataframe\">\n",
       "  <thead>\n",
       "    <tr style=\"text-align: right;\">\n",
       "      <th></th>\n",
       "      <th>CreditScore</th>\n",
       "      <th>Age</th>\n",
       "      <th>Tenure</th>\n",
       "      <th>Balance</th>\n",
       "      <th>NumOfProducts</th>\n",
       "      <th>HasCrCard</th>\n",
       "      <th>IsActiveMember</th>\n",
       "      <th>EstimatedSalary</th>\n",
       "      <th>Exited</th>\n",
       "    </tr>\n",
       "  </thead>\n",
       "  <tbody>\n",
       "    <tr>\n",
       "      <th>0</th>\n",
       "      <td>619</td>\n",
       "      <td>42</td>\n",
       "      <td>2</td>\n",
       "      <td>0.00</td>\n",
       "      <td>1</td>\n",
       "      <td>1</td>\n",
       "      <td>1</td>\n",
       "      <td>101348.88</td>\n",
       "      <td>1</td>\n",
       "    </tr>\n",
       "    <tr>\n",
       "      <th>1</th>\n",
       "      <td>608</td>\n",
       "      <td>41</td>\n",
       "      <td>1</td>\n",
       "      <td>83807.86</td>\n",
       "      <td>1</td>\n",
       "      <td>0</td>\n",
       "      <td>1</td>\n",
       "      <td>112542.58</td>\n",
       "      <td>0</td>\n",
       "    </tr>\n",
       "    <tr>\n",
       "      <th>2</th>\n",
       "      <td>502</td>\n",
       "      <td>42</td>\n",
       "      <td>8</td>\n",
       "      <td>159660.80</td>\n",
       "      <td>3</td>\n",
       "      <td>1</td>\n",
       "      <td>0</td>\n",
       "      <td>113931.57</td>\n",
       "      <td>1</td>\n",
       "    </tr>\n",
       "    <tr>\n",
       "      <th>3</th>\n",
       "      <td>699</td>\n",
       "      <td>39</td>\n",
       "      <td>1</td>\n",
       "      <td>0.00</td>\n",
       "      <td>2</td>\n",
       "      <td>0</td>\n",
       "      <td>0</td>\n",
       "      <td>93826.63</td>\n",
       "      <td>0</td>\n",
       "    </tr>\n",
       "    <tr>\n",
       "      <th>4</th>\n",
       "      <td>850</td>\n",
       "      <td>43</td>\n",
       "      <td>2</td>\n",
       "      <td>125510.82</td>\n",
       "      <td>1</td>\n",
       "      <td>1</td>\n",
       "      <td>1</td>\n",
       "      <td>79084.10</td>\n",
       "      <td>0</td>\n",
       "    </tr>\n",
       "  </tbody>\n",
       "</table>\n",
       "</div>"
      ],
      "text/plain": [
       "   CreditScore  Age  Tenure    Balance  NumOfProducts  HasCrCard  \\\n",
       "0          619   42       2       0.00              1          1   \n",
       "1          608   41       1   83807.86              1          0   \n",
       "2          502   42       8  159660.80              3          1   \n",
       "3          699   39       1       0.00              2          0   \n",
       "4          850   43       2  125510.82              1          1   \n",
       "\n",
       "   IsActiveMember  EstimatedSalary  Exited  \n",
       "0               1        101348.88       1  \n",
       "1               1        112542.58       0  \n",
       "2               0        113931.57       1  \n",
       "3               0         93826.63       0  \n",
       "4               1         79084.10       0  "
      ]
     },
     "execution_count": 11,
     "metadata": {},
     "output_type": "execute_result"
    }
   ],
   "source": [
    "dataset_new  = dataset.drop(['RowNumber', 'CustomerId', 'Surname','Geography','Gender'],axis=1)\n",
    "dataset_new.head()"
   ]
  },
  {
   "cell_type": "code",
   "execution_count": 12,
   "metadata": {},
   "outputs": [
    {
     "data": {
      "text/html": [
       "<div>\n",
       "<style>\n",
       "    .dataframe thead tr:only-child th {\n",
       "        text-align: right;\n",
       "    }\n",
       "\n",
       "    .dataframe thead th {\n",
       "        text-align: left;\n",
       "    }\n",
       "\n",
       "    .dataframe tbody tr th {\n",
       "        vertical-align: top;\n",
       "    }\n",
       "</style>\n",
       "<table border=\"1\" class=\"dataframe\">\n",
       "  <thead>\n",
       "    <tr style=\"text-align: right;\">\n",
       "      <th></th>\n",
       "      <th>Geography_France</th>\n",
       "      <th>Geography_Germany</th>\n",
       "      <th>Geography_Spain</th>\n",
       "      <th>Gender_Female</th>\n",
       "      <th>Gender_Male</th>\n",
       "      <th>CreditScore</th>\n",
       "      <th>Age</th>\n",
       "      <th>Tenure</th>\n",
       "      <th>Balance</th>\n",
       "      <th>NumOfProducts</th>\n",
       "      <th>HasCrCard</th>\n",
       "      <th>IsActiveMember</th>\n",
       "      <th>EstimatedSalary</th>\n",
       "      <th>Exited</th>\n",
       "    </tr>\n",
       "  </thead>\n",
       "  <tbody>\n",
       "    <tr>\n",
       "      <th>0</th>\n",
       "      <td>1</td>\n",
       "      <td>0</td>\n",
       "      <td>0</td>\n",
       "      <td>1</td>\n",
       "      <td>0</td>\n",
       "      <td>619</td>\n",
       "      <td>42</td>\n",
       "      <td>2</td>\n",
       "      <td>0.00</td>\n",
       "      <td>1</td>\n",
       "      <td>1</td>\n",
       "      <td>1</td>\n",
       "      <td>101348.88</td>\n",
       "      <td>1</td>\n",
       "    </tr>\n",
       "    <tr>\n",
       "      <th>1</th>\n",
       "      <td>0</td>\n",
       "      <td>0</td>\n",
       "      <td>1</td>\n",
       "      <td>1</td>\n",
       "      <td>0</td>\n",
       "      <td>608</td>\n",
       "      <td>41</td>\n",
       "      <td>1</td>\n",
       "      <td>83807.86</td>\n",
       "      <td>1</td>\n",
       "      <td>0</td>\n",
       "      <td>1</td>\n",
       "      <td>112542.58</td>\n",
       "      <td>0</td>\n",
       "    </tr>\n",
       "    <tr>\n",
       "      <th>2</th>\n",
       "      <td>1</td>\n",
       "      <td>0</td>\n",
       "      <td>0</td>\n",
       "      <td>1</td>\n",
       "      <td>0</td>\n",
       "      <td>502</td>\n",
       "      <td>42</td>\n",
       "      <td>8</td>\n",
       "      <td>159660.80</td>\n",
       "      <td>3</td>\n",
       "      <td>1</td>\n",
       "      <td>0</td>\n",
       "      <td>113931.57</td>\n",
       "      <td>1</td>\n",
       "    </tr>\n",
       "    <tr>\n",
       "      <th>3</th>\n",
       "      <td>1</td>\n",
       "      <td>0</td>\n",
       "      <td>0</td>\n",
       "      <td>1</td>\n",
       "      <td>0</td>\n",
       "      <td>699</td>\n",
       "      <td>39</td>\n",
       "      <td>1</td>\n",
       "      <td>0.00</td>\n",
       "      <td>2</td>\n",
       "      <td>0</td>\n",
       "      <td>0</td>\n",
       "      <td>93826.63</td>\n",
       "      <td>0</td>\n",
       "    </tr>\n",
       "    <tr>\n",
       "      <th>4</th>\n",
       "      <td>0</td>\n",
       "      <td>0</td>\n",
       "      <td>1</td>\n",
       "      <td>1</td>\n",
       "      <td>0</td>\n",
       "      <td>850</td>\n",
       "      <td>43</td>\n",
       "      <td>2</td>\n",
       "      <td>125510.82</td>\n",
       "      <td>1</td>\n",
       "      <td>1</td>\n",
       "      <td>1</td>\n",
       "      <td>79084.10</td>\n",
       "      <td>0</td>\n",
       "    </tr>\n",
       "  </tbody>\n",
       "</table>\n",
       "</div>"
      ],
      "text/plain": [
       "   Geography_France  Geography_Germany  Geography_Spain  Gender_Female  \\\n",
       "0                 1                  0                0              1   \n",
       "1                 0                  0                1              1   \n",
       "2                 1                  0                0              1   \n",
       "3                 1                  0                0              1   \n",
       "4                 0                  0                1              1   \n",
       "\n",
       "   Gender_Male  CreditScore  Age  Tenure    Balance  NumOfProducts  HasCrCard  \\\n",
       "0            0          619   42       2       0.00              1          1   \n",
       "1            0          608   41       1   83807.86              1          0   \n",
       "2            0          502   42       8  159660.80              3          1   \n",
       "3            0          699   39       1       0.00              2          0   \n",
       "4            0          850   43       2  125510.82              1          1   \n",
       "\n",
       "   IsActiveMember  EstimatedSalary  Exited  \n",
       "0               1        101348.88       1  \n",
       "1               1        112542.58       0  \n",
       "2               0        113931.57       1  \n",
       "3               0         93826.63       0  \n",
       "4               1         79084.10       0  "
      ]
     },
     "execution_count": 12,
     "metadata": {},
     "output_type": "execute_result"
    }
   ],
   "source": [
    "data = dummies.join(dataset_new)\n",
    "data.head()"
   ]
  },
  {
   "cell_type": "code",
   "execution_count": 14,
   "metadata": {},
   "outputs": [
    {
     "data": {
      "text/plain": [
       "(10000, 14)"
      ]
     },
     "execution_count": 14,
     "metadata": {},
     "output_type": "execute_result"
    }
   ],
   "source": [
    "data.shape"
   ]
  },
  {
   "cell_type": "code",
   "execution_count": 20,
   "metadata": {},
   "outputs": [],
   "source": [
    "#predictor variables from 3rd to 12th collumn\n",
    "X = dataset_new.drop('Exited',axis=1).values\n",
    "#Labels Exited people (1 or 0)\n",
    "y = dataset_new['Exited'].values "
   ]
  },
  {
   "cell_type": "code",
   "execution_count": 21,
   "metadata": {},
   "outputs": [
    {
     "data": {
      "text/plain": [
       "array([[6.1900000e+02, 4.2000000e+01, 2.0000000e+00, ..., 1.0000000e+00,\n",
       "        1.0000000e+00, 1.0134888e+05],\n",
       "       [6.0800000e+02, 4.1000000e+01, 1.0000000e+00, ..., 0.0000000e+00,\n",
       "        1.0000000e+00, 1.1254258e+05],\n",
       "       [5.0200000e+02, 4.2000000e+01, 8.0000000e+00, ..., 1.0000000e+00,\n",
       "        0.0000000e+00, 1.1393157e+05],\n",
       "       ...,\n",
       "       [7.0900000e+02, 3.6000000e+01, 7.0000000e+00, ..., 0.0000000e+00,\n",
       "        1.0000000e+00, 4.2085580e+04],\n",
       "       [7.7200000e+02, 4.2000000e+01, 3.0000000e+00, ..., 1.0000000e+00,\n",
       "        0.0000000e+00, 9.2888520e+04],\n",
       "       [7.9200000e+02, 2.8000000e+01, 4.0000000e+00, ..., 1.0000000e+00,\n",
       "        0.0000000e+00, 3.8190780e+04]])"
      ]
     },
     "execution_count": 21,
     "metadata": {},
     "output_type": "execute_result"
    }
   ],
   "source": [
    "X"
   ]
  },
  {
   "cell_type": "code",
   "execution_count": 22,
   "metadata": {},
   "outputs": [
    {
     "data": {
      "text/plain": [
       "array([1, 0, 1, ..., 1, 1, 0], dtype=int64)"
      ]
     },
     "execution_count": 22,
     "metadata": {},
     "output_type": "execute_result"
    }
   ],
   "source": [
    "y"
   ]
  },
  {
   "cell_type": "code",
   "execution_count": 23,
   "metadata": {
    "collapsed": true
   },
   "outputs": [],
   "source": [
    "#Splitting the dataset into the Training set and Test set\n",
    "from sklearn.model_selection import train_test_split\n",
    "X_train, X_test, y_train, y_test = train_test_split(X, y, test_size = 0.2, random_state = 0)\n"
   ]
  },
  {
   "cell_type": "code",
   "execution_count": 24,
   "metadata": {},
   "outputs": [
    {
     "name": "stdout",
     "output_type": "stream",
     "text": [
      "(8000, 8) (2000, 8)\n",
      "(8000,) (2000,)\n"
     ]
    }
   ],
   "source": [
    "print(X_train.shape,X_test.shape)\n",
    "print(y_train.shape,y_test.shape)"
   ]
  },
  {
   "cell_type": "code",
   "execution_count": 39,
   "metadata": {
    "collapsed": true
   },
   "outputs": [],
   "source": [
    "# Feature Scaling\n",
    "from sklearn.preprocessing import StandardScaler\n",
    "sc = StandardScaler()\n",
    "X_train = sc.fit_transform(X_train)\n",
    "X_test = sc.transform(X_test)\n"
   ]
  },
  {
   "cell_type": "markdown",
   "metadata": {},
   "source": [
    "One of the key purposes of churn prediction is to find out what factors increase churn risk.\n",
    "\n",
    "Tree-based machine learning models, make it easy to visualize feature importance."
   ]
  },
  {
   "cell_type": "code",
   "execution_count": 29,
   "metadata": {},
   "outputs": [
    {
     "name": "stdout",
     "output_type": "stream",
     "text": [
      "Collecting graphviz\n",
      "  Downloading https://files.pythonhosted.org/packages/1f/e2/ef2581b5b86625657afd32030f90cf2717456c1d2b711ba074bf007c0f1a/graphviz-0.10.1-py2.py3-none-any.whl\n",
      "Installing collected packages: graphviz\n",
      "Successfully installed graphviz-0.10.1\n"
     ]
    },
    {
     "name": "stderr",
     "output_type": "stream",
     "text": [
      "You are using pip version 18.1, however version 19.0.3 is available.\n",
      "You should consider upgrading via the 'python -m pip install --upgrade pip' command.\n"
     ]
    }
   ],
   "source": [
    "!pip install graphviz"
   ]
  },
  {
   "cell_type": "code",
   "execution_count": 33,
   "metadata": {},
   "outputs": [],
   "source": [
    "# plot decision tree\n",
    "from numpy import loadtxt\n",
    "from xgboost import XGBClassifier\n",
    "from xgboost import plot_tree\n",
    "import matplotlib.pyplot as plt\n",
    "from sklearn.metrics import accuracy_score\n",
    "import scikitplot"
   ]
  },
  {
   "cell_type": "code",
   "execution_count": 55,
   "metadata": {},
   "outputs": [
    {
     "name": "stdout",
     "output_type": "stream",
     "text": [
      "Accuracy: 86.20%\n"
     ]
    },
    {
     "name": "stderr",
     "output_type": "stream",
     "text": [
      "C:\\Users\\INTEL\\Anaconda3\\lib\\site-packages\\sklearn\\preprocessing\\label.py:151: DeprecationWarning: The truth value of an empty array is ambiguous. Returning False, but in future this will result in an error. Use `array.size > 0` to check that an array is not empty.\n",
      "  if diff:\n"
     ]
    }
   ],
   "source": [
    "# fit model no training data\n",
    "model = XGBClassifier()\n",
    "model.fit(X_train, y_train)\n",
    "# make predictions for test data\n",
    "y_pred_proba = model.predict_proba(X_test)\n",
    "y_pred  =  model.predict(X_test)\n",
    "# evaluate predictions\n",
    "accuracy = accuracy_score(y_test, y_pred)\n",
    "print(\"Accuracy: %.2f%%\" % (accuracy * 100.0))"
   ]
  },
  {
   "cell_type": "code",
   "execution_count": 56,
   "metadata": {},
   "outputs": [
    {
     "data": {
      "text/plain": [
       "<matplotlib.axes._subplots.AxesSubplot at 0x18cbef25ac8>"
      ]
     },
     "execution_count": 56,
     "metadata": {},
     "output_type": "execute_result"
    },
    {
     "data": {
      "image/png": "[encoded data removed]",
      "text/plain": [
       "<matplotlib.figure.Figure at 0x18cbef3c3c8>"
      ]
     },
     "metadata": {},
     "output_type": "display_data"
    }
   ],
   "source": [
    "scikitplot.metrics.plot_confusion_matrix(y_test, y_pred)"
   ]
  },
  {
   "cell_type": "code",
   "execution_count": 57,
   "metadata": {},
   "outputs": [
    {
     "data": {
      "text/plain": [
       "<matplotlib.axes._subplots.AxesSubplot at 0x18cbef97ef0>"
      ]
     },
     "execution_count": 57,
     "metadata": {},
     "output_type": "execute_result"
    },
    {
     "data": {
      "image/png": "[encoded data removed]",
      "text/plain": [
       "<matplotlib.figure.Figure at 0x18cbefa45c0>"
      ]
     },
     "metadata": {},
     "output_type": "display_data"
    }
   ],
   "source": [
    "scikitplot.metrics.plot_roc(y_test,y_pred_proba)"
   ]
  },
  {
   "cell_type": "code",
   "execution_count": 58,
   "metadata": {},
   "outputs": [
    {
     "data": {
      "text/plain": [
       "array([[0.87781084, 0.12218918],\n",
       "       [0.75335354, 0.24664646],\n",
       "       [0.8045732 , 0.19542684],\n",
       "       ...,\n",
       "       [0.9232984 , 0.0767016 ],\n",
       "       [0.9004769 , 0.09952313],\n",
       "       [0.83807135, 0.16192865]], dtype=float32)"
      ]
     },
     "execution_count": 58,
     "metadata": {},
     "output_type": "execute_result"
    }
   ],
   "source": [
    "y_pred_proba"
   ]
  },
  {
   "cell_type": "code",
   "execution_count": 42,
   "metadata": {},
   "outputs": [
    {
     "name": "stdout",
     "output_type": "stream",
     "text": [
      "Accuracy: 80.35%\n"
     ]
    },
    {
     "data": {
      "text/plain": [
       "<matplotlib.axes._subplots.AxesSubplot at 0x18cb8e4dba8>"
      ]
     },
     "execution_count": 42,
     "metadata": {},
     "output_type": "execute_result"
    },
    {
     "data": {
      "image/png": "[encoded data removed]",
      "text/plain": [
       "<matplotlib.figure.Figure at 0x18cb8cdd8d0>"
      ]
     },
     "metadata": {},
     "output_type": "display_data"
    }
   ],
   "source": [
    "from sklearn.linear_model import LogisticRegression\n",
    "lr = LogisticRegression()\n",
    "lr.fit(X_train,y_train)\n",
    "y_pred = lr.predict(X_test)\n",
    "# evaluate predictions\n",
    "accuracy = accuracy_score(y_test, y_pred)\n",
    "print(\"Accuracy: %.2f%%\" % (accuracy * 100.0))\n",
    "scikitplot.metrics.plot_confusion_matrix(y_test, y_pred)"
   ]
  },
  {
   "cell_type": "markdown",
   "metadata": {},
   "source": [
    "#### Using Feed Forward Aritificial Neural Network"
   ]
  },
  {
   "cell_type": "code",
   "execution_count": 43,
   "metadata": {},
   "outputs": [
    {
     "name": "stderr",
     "output_type": "stream",
     "text": [
      "C:\\Users\\INTEL\\Anaconda3\\lib\\site-packages\\h5py\\__init__.py:34: FutureWarning: Conversion of the second argument of issubdtype from `float` to `np.floating` is deprecated. In future, it will be treated as `np.float64 == np.dtype(float).type`.\n",
      "  from ._conv import register_converters as _register_converters\n",
      "Using TensorFlow backend.\n",
      "C:\\Users\\INTEL\\Anaconda3\\lib\\site-packages\\ipykernel_launcher.py:12: UserWarning: Update your `Dense` call to the Keras 2 API: `Dense(activation=\"relu\", input_dim=8, units=6, kernel_initializer=\"uniform\")`\n",
      "  if sys.path[0] == '':\n",
      "C:\\Users\\INTEL\\Anaconda3\\lib\\site-packages\\ipykernel_launcher.py:15: UserWarning: Update your `Dense` call to the Keras 2 API: `Dense(activation=\"relu\", units=6, kernel_initializer=\"uniform\")`\n",
      "  from ipykernel import kernelapp as app\n",
      "C:\\Users\\INTEL\\Anaconda3\\lib\\site-packages\\ipykernel_launcher.py:18: UserWarning: Update your `Dense` call to the Keras 2 API: `Dense(activation=\"sigmoid\", units=1, kernel_initializer=\"uniform\")`\n"
     ]
    },
    {
     "name": "stdout",
     "output_type": "stream",
     "text": [
      "_________________________________________________________________\n",
      "Layer (type)                 Output Shape              Param #   \n",
      "=================================================================\n",
      "dense_1 (Dense)              (None, 6)                 54        \n",
      "_________________________________________________________________\n",
      "dense_2 (Dense)              (None, 6)                 42        \n",
      "_________________________________________________________________\n",
      "dense_3 (Dense)              (None, 1)                 7         \n",
      "=================================================================\n",
      "Total params: 103\n",
      "Trainable params: 103\n",
      "Non-trainable params: 0\n",
      "_________________________________________________________________\n"
     ]
    },
    {
     "name": "stderr",
     "output_type": "stream",
     "text": [
      "C:\\Users\\INTEL\\Anaconda3\\lib\\site-packages\\ipykernel_launcher.py:26: UserWarning: The `nb_epoch` argument in `fit` has been renamed `epochs`.\n"
     ]
    },
    {
     "name": "stdout",
     "output_type": "stream",
     "text": [
      "Epoch 1/100\n",
      "8000/8000 [==============================] - 3s 415us/step - loss: 0.4948 - acc: 0.7954\n",
      "Epoch 2/100\n",
      "8000/8000 [==============================] - 1s 139us/step - loss: 0.4373 - acc: 0.7960\n",
      "Epoch 3/100\n",
      "8000/8000 [==============================] - 1s 140us/step - loss: 0.4304 - acc: 0.8115\n",
      "Epoch 4/100\n",
      "8000/8000 [==============================] - 1s 140us/step - loss: 0.4233 - acc: 0.8264\n",
      "Epoch 5/100\n",
      "8000/8000 [==============================] - 1s 145us/step - loss: 0.4181 - acc: 0.8315\n",
      "Epoch 6/100\n",
      "8000/8000 [==============================] - ETA: 0s - loss: 0.4167 - acc: 0.829 - 1s 142us/step - loss: 0.4155 - acc: 0.8304\n",
      "Epoch 7/100\n",
      "8000/8000 [==============================] - 1s 142us/step - loss: 0.4134 - acc: 0.8312\n",
      "Epoch 8/100\n",
      "8000/8000 [==============================] - 1s 140us/step - loss: 0.4117 - acc: 0.8317\n",
      "Epoch 9/100\n",
      "8000/8000 [==============================] - 1s 141us/step - loss: 0.4100 - acc: 0.8311\n",
      "Epoch 10/100\n",
      "8000/8000 [==============================] - 1s 141us/step - loss: 0.4101 - acc: 0.8299\n",
      "Epoch 11/100\n",
      "8000/8000 [==============================] - 1s 140us/step - loss: 0.4095 - acc: 0.8301\n",
      "Epoch 12/100\n",
      "8000/8000 [==============================] - 1s 140us/step - loss: 0.4084 - acc: 0.8317\n",
      "Epoch 13/100\n",
      "8000/8000 [==============================] - 1s 137us/step - loss: 0.4089 - acc: 0.8305\n",
      "Epoch 14/100\n",
      "8000/8000 [==============================] - 1s 142us/step - loss: 0.4080 - acc: 0.8322\n",
      "Epoch 15/100\n",
      "8000/8000 [==============================] - 1s 141us/step - loss: 0.4079 - acc: 0.8301\n",
      "Epoch 16/100\n",
      "8000/8000 [==============================] - 1s 140us/step - loss: 0.4077 - acc: 0.8304\n",
      "Epoch 17/100\n",
      "8000/8000 [==============================] - 1s 140us/step - loss: 0.4064 - acc: 0.8322\n",
      "Epoch 18/100\n",
      "8000/8000 [==============================] - 1s 141us/step - loss: 0.4072 - acc: 0.8299\n",
      "Epoch 19/100\n",
      "8000/8000 [==============================] - 1s 140us/step - loss: 0.4066 - acc: 0.8326\n",
      "Epoch 20/100\n",
      "8000/8000 [==============================] - 1s 141us/step - loss: 0.4066 - acc: 0.8311\n",
      "Epoch 21/100\n",
      "8000/8000 [==============================] - 1s 141us/step - loss: 0.4058 - acc: 0.8315\n",
      "Epoch 22/100\n",
      "8000/8000 [==============================] - 1s 141us/step - loss: 0.4060 - acc: 0.8316\n",
      "Epoch 23/100\n",
      "8000/8000 [==============================] - 1s 140us/step - loss: 0.4057 - acc: 0.8320\n",
      "Epoch 24/100\n",
      "8000/8000 [==============================] - 1s 141us/step - loss: 0.4046 - acc: 0.8324\n",
      "Epoch 25/100\n",
      "8000/8000 [==============================] - 1s 142us/step - loss: 0.4054 - acc: 0.8319\n",
      "Epoch 26/100\n",
      "8000/8000 [==============================] - 1s 143us/step - loss: 0.4042 - acc: 0.8339\n",
      "Epoch 27/100\n",
      "8000/8000 [==============================] - 1s 139us/step - loss: 0.4038 - acc: 0.8337\n",
      "Epoch 28/100\n",
      "8000/8000 [==============================] - 1s 138us/step - loss: 0.4040 - acc: 0.8325\n",
      "Epoch 29/100\n",
      "8000/8000 [==============================] - 1s 141us/step - loss: 0.4027 - acc: 0.8351\n",
      "Epoch 30/100\n",
      "8000/8000 [==============================] - 1s 141us/step - loss: 0.4025 - acc: 0.8327\n",
      "Epoch 31/100\n",
      "8000/8000 [==============================] - 1s 142us/step - loss: 0.4023 - acc: 0.8337\n",
      "Epoch 32/100\n",
      "8000/8000 [==============================] - 1s 143us/step - loss: 0.4015 - acc: 0.8350\n",
      "Epoch 33/100\n",
      "8000/8000 [==============================] - 1s 142us/step - loss: 0.4007 - acc: 0.8342\n",
      "Epoch 34/100\n",
      "8000/8000 [==============================] - 1s 141us/step - loss: 0.4002 - acc: 0.8365\n",
      "Epoch 35/100\n",
      "8000/8000 [==============================] - 1s 141us/step - loss: 0.4001 - acc: 0.8366\n",
      "Epoch 36/100\n",
      "8000/8000 [==============================] - 1s 146us/step - loss: 0.3996 - acc: 0.8346\n",
      "Epoch 37/100\n",
      "8000/8000 [==============================] - 1s 148us/step - loss: 0.3982 - acc: 0.8357\n",
      "Epoch 38/100\n",
      "8000/8000 [==============================] - 1s 143us/step - loss: 0.3972 - acc: 0.8357\n",
      "Epoch 39/100\n",
      "8000/8000 [==============================] - 1s 145us/step - loss: 0.3961 - acc: 0.8381\n",
      "Epoch 40/100\n",
      "8000/8000 [==============================] - 1s 137us/step - loss: 0.3956 - acc: 0.8360\n",
      "Epoch 41/100\n",
      "8000/8000 [==============================] - 1s 138us/step - loss: 0.3948 - acc: 0.8356\n",
      "Epoch 42/100\n",
      "8000/8000 [==============================] - 1s 134us/step - loss: 0.3938 - acc: 0.8381\n",
      "Epoch 43/100\n",
      "8000/8000 [==============================] - 1s 141us/step - loss: 0.3926 - acc: 0.8379\n",
      "Epoch 44/100\n",
      "8000/8000 [==============================] - 1s 140us/step - loss: 0.3917 - acc: 0.8360\n",
      "Epoch 45/100\n",
      "8000/8000 [==============================] - 1s 139us/step - loss: 0.3896 - acc: 0.8357\n",
      "Epoch 46/100\n",
      "8000/8000 [==============================] - 1s 140us/step - loss: 0.3888 - acc: 0.8364\n",
      "Epoch 47/100\n",
      "8000/8000 [==============================] - 1s 140us/step - loss: 0.3864 - acc: 0.8370\n",
      "Epoch 48/100\n",
      "8000/8000 [==============================] - 1s 139us/step - loss: 0.3844 - acc: 0.8370\n",
      "Epoch 49/100\n",
      "8000/8000 [==============================] - 1s 138us/step - loss: 0.3809 - acc: 0.8384\n",
      "Epoch 50/100\n",
      "8000/8000 [==============================] - 1s 140us/step - loss: 0.3769 - acc: 0.8387\n",
      "Epoch 51/100\n",
      "8000/8000 [==============================] - 1s 142us/step - loss: 0.3735 - acc: 0.8424\n",
      "Epoch 52/100\n",
      "8000/8000 [==============================] - 1s 140us/step - loss: 0.3692 - acc: 0.8442\n",
      "Epoch 53/100\n",
      "8000/8000 [==============================] - 1s 169us/step - loss: 0.3633 - acc: 0.8484\n",
      "Epoch 54/100\n",
      "8000/8000 [==============================] - 1s 149us/step - loss: 0.3586 - acc: 0.8509\n",
      "Epoch 55/100\n",
      "8000/8000 [==============================] - 1s 146us/step - loss: 0.3569 - acc: 0.8532\n",
      "Epoch 56/100\n",
      "8000/8000 [==============================] - 1s 163us/step - loss: 0.3561 - acc: 0.8552\n",
      "Epoch 57/100\n",
      "8000/8000 [==============================] - 1s 148us/step - loss: 0.3545 - acc: 0.8560\n",
      "Epoch 58/100\n",
      "8000/8000 [==============================] - 1s 142us/step - loss: 0.3546 - acc: 0.8539\n",
      "Epoch 59/100\n",
      "8000/8000 [==============================] - 1s 136us/step - loss: 0.3530 - acc: 0.8546\n",
      "Epoch 60/100\n",
      "8000/8000 [==============================] - 1s 138us/step - loss: 0.3541 - acc: 0.8537\n",
      "Epoch 61/100\n",
      "8000/8000 [==============================] - 1s 139us/step - loss: 0.3532 - acc: 0.8555\n",
      "Epoch 62/100\n",
      "8000/8000 [==============================] - 1s 136us/step - loss: 0.3528 - acc: 0.8546\n",
      "Epoch 63/100\n",
      "8000/8000 [==============================] - 1s 136us/step - loss: 0.3528 - acc: 0.8539\n",
      "Epoch 64/100\n",
      "8000/8000 [==============================] - 1s 146us/step - loss: 0.3533 - acc: 0.8537\n",
      "Epoch 65/100\n",
      "8000/8000 [==============================] - 1s 148us/step - loss: 0.3523 - acc: 0.8540\n",
      "Epoch 66/100\n",
      "8000/8000 [==============================] - 1s 140us/step - loss: 0.3519 - acc: 0.8554\n",
      "Epoch 67/100\n",
      "8000/8000 [==============================] - 1s 145us/step - loss: 0.3514 - acc: 0.8556\n",
      "Epoch 68/100\n",
      "8000/8000 [==============================] - 1s 143us/step - loss: 0.3511 - acc: 0.8541\n",
      "Epoch 69/100\n",
      "8000/8000 [==============================] - 1s 141us/step - loss: 0.3507 - acc: 0.8544\n",
      "Epoch 70/100\n",
      "8000/8000 [==============================] - 1s 142us/step - loss: 0.3511 - acc: 0.8539\n",
      "Epoch 71/100\n",
      "8000/8000 [==============================] - 1s 143us/step - loss: 0.3501 - acc: 0.8537\n",
      "Epoch 72/100\n",
      "8000/8000 [==============================] - 1s 159us/step - loss: 0.3498 - acc: 0.8536\n",
      "Epoch 73/100\n",
      "8000/8000 [==============================] - 1s 166us/step - loss: 0.3506 - acc: 0.8539\n",
      "Epoch 74/100\n",
      "8000/8000 [==============================] - 1s 143us/step - loss: 0.3497 - acc: 0.8557\n",
      "Epoch 75/100\n",
      "8000/8000 [==============================] - 1s 142us/step - loss: 0.3501 - acc: 0.8552\n",
      "Epoch 76/100\n",
      "8000/8000 [==============================] - 1s 145us/step - loss: 0.3494 - acc: 0.8562\n",
      "Epoch 77/100\n",
      "8000/8000 [==============================] - 1s 143us/step - loss: 0.3500 - acc: 0.8547\n",
      "Epoch 78/100\n",
      "8000/8000 [==============================] - 1s 143us/step - loss: 0.3501 - acc: 0.8539\n",
      "Epoch 79/100\n",
      "8000/8000 [==============================] - 1s 141us/step - loss: 0.3501 - acc: 0.8544\n",
      "Epoch 80/100\n",
      "8000/8000 [==============================] - 1s 141us/step - loss: 0.3492 - acc: 0.8549\n",
      "Epoch 81/100\n"
     ]
    },
    {
     "name": "stdout",
     "output_type": "stream",
     "text": [
      "8000/8000 [==============================] - 1s 134us/step - loss: 0.3492 - acc: 0.8550\n",
      "Epoch 82/100\n",
      "8000/8000 [==============================] - 1s 136us/step - loss: 0.3495 - acc: 0.8540\n",
      "Epoch 83/100\n",
      "8000/8000 [==============================] - 1s 134us/step - loss: 0.3495 - acc: 0.8539\n",
      "Epoch 84/100\n",
      "8000/8000 [==============================] - 1s 134us/step - loss: 0.3495 - acc: 0.8541\n",
      "Epoch 85/100\n",
      "8000/8000 [==============================] - 1s 135us/step - loss: 0.3493 - acc: 0.8554\n",
      "Epoch 86/100\n",
      "8000/8000 [==============================] - 1s 134us/step - loss: 0.3497 - acc: 0.8546\n",
      "Epoch 87/100\n",
      "8000/8000 [==============================] - 1s 135us/step - loss: 0.3492 - acc: 0.8532\n",
      "Epoch 88/100\n",
      "8000/8000 [==============================] - 1s 134us/step - loss: 0.3497 - acc: 0.8535\n",
      "Epoch 89/100\n",
      "8000/8000 [==============================] - 1s 136us/step - loss: 0.3495 - acc: 0.8556\n",
      "Epoch 90/100\n",
      "8000/8000 [==============================] - 1s 135us/step - loss: 0.3494 - acc: 0.8554\n",
      "Epoch 91/100\n",
      "8000/8000 [==============================] - 1s 136us/step - loss: 0.3495 - acc: 0.8522\n",
      "Epoch 92/100\n",
      "8000/8000 [==============================] - 1s 136us/step - loss: 0.3495 - acc: 0.8561\n",
      "Epoch 93/100\n",
      "8000/8000 [==============================] - 1s 136us/step - loss: 0.3495 - acc: 0.8536\n",
      "Epoch 94/100\n",
      "8000/8000 [==============================] - 1s 145us/step - loss: 0.3494 - acc: 0.8542\n",
      "Epoch 95/100\n",
      "8000/8000 [==============================] - 1s 138us/step - loss: 0.3494 - acc: 0.8537\n",
      "Epoch 96/100\n",
      "8000/8000 [==============================] - 1s 135us/step - loss: 0.3495 - acc: 0.8529\n",
      "Epoch 97/100\n",
      "8000/8000 [==============================] - 1s 142us/step - loss: 0.3492 - acc: 0.8544\n",
      "Epoch 98/100\n",
      "8000/8000 [==============================] - 1s 132us/step - loss: 0.3491 - acc: 0.8552\n",
      "Epoch 99/100\n",
      "8000/8000 [==============================] - 1s 134us/step - loss: 0.3497 - acc: 0.8540\n",
      "Epoch 100/100\n",
      "8000/8000 [==============================] - 1s 136us/step - loss: 0.3488 - acc: 0.8537\n"
     ]
    },
    {
     "data": {
      "text/plain": [
       "<keras.callbacks.History at 0x18cbd83ed68>"
      ]
     },
     "execution_count": 43,
     "metadata": {},
     "output_type": "execute_result"
    }
   ],
   "source": [
    "import keras\n",
    "from keras.models import Sequential\n",
    "from keras.layers import Dense\n",
    "\n",
    "#Initialising the ANN\n",
    "classifier = Sequential()\n",
    "\n",
    "# Add input layer and hidden layer no.1\n",
    "# 6 output nodes, Relu activation function and 11 input nodes\n",
    "# Output nodes is determined by the number of input nodes+1/2 (6)\n",
    "# the uniform method makes sure the weights are given randomly with small numbers close to 0\n",
    "classifier.add(Dense(output_dim = 6, init = 'uniform', activation = 'relu', input_dim = 8))\n",
    "\n",
    "# Add the second hidden layer to achieve a deep neural network\n",
    "classifier.add(Dense(output_dim = 6, init = 'uniform', activation = 'relu'))\n",
    "\n",
    "# Add the Output layer\n",
    "classifier.add(Dense(output_dim = 1, init = 'uniform', activation = 'sigmoid'))\n",
    "\n",
    "classifier.summary()\n",
    "#Compiling the NN\n",
    "# binary_crossentropy loss function used when a binary output is expected\n",
    "classifier.compile(optimizer = 'adam', loss = 'binary_crossentropy', metrics = ['accuracy']) \n",
    "\n",
    "\n",
    "classifier.fit(X_train, y_train, batch_size = 10, nb_epoch = 100)"
   ]
  },
  {
   "cell_type": "code",
   "execution_count": 59,
   "metadata": {
    "collapsed": true
   },
   "outputs": [],
   "source": [
    "\n",
    "# Fitting classifier to the Training set\n",
    "# Create your classifier here\n",
    "\n",
    "# Predicting the Test set results\n",
    "y_pred_proba = classifier.predict(X_test)\n",
    "\n",
    "# Create a treshold to predict a true or false for leaving the\n",
    "# the bank.\n",
    "y_pred = (y_pred_proba > 0.5)"
   ]
  },
  {
   "cell_type": "code",
   "execution_count": 60,
   "metadata": {},
   "outputs": [
    {
     "name": "stdout",
     "output_type": "stream",
     "text": [
      "Accuracy: 86.35%\n"
     ]
    },
    {
     "data": {
      "text/plain": [
       "<matplotlib.axes._subplots.AxesSubplot at 0x18cbf01d898>"
      ]
     },
     "execution_count": 60,
     "metadata": {},
     "output_type": "execute_result"
    },
    {
     "data": {
      "image/png": "[encoded data removed]",
      "text/plain": [
       "<matplotlib.figure.Figure at 0x18cbef02a90>"
      ]
     },
     "metadata": {},
     "output_type": "display_data"
    }
   ],
   "source": [
    "# evaluate predictions\n",
    "accuracy = accuracy_score(y_test, y_pred)\n",
    "print(\"Accuracy: %.2f%%\" % (accuracy * 100.0))\n",
    "scikitplot.metrics.plot_confusion_matrix(y_test, y_pred)"
   ]
  },
  {
   "cell_type": "code",
   "execution_count": 48,
   "metadata": {},
   "outputs": [
    {
     "name": "stdout",
     "output_type": "stream",
     "text": [
      "ROC AUC  0.7200704361623902\n"
     ]
    }
   ],
   "source": [
    "from sklearn.metrics import roc_curve, auc\n",
    "false_positive_rate, true_positive_rate, thresholds = roc_curve(y_test,y_pred)\n",
    "roc_auc = auc(false_positive_rate, true_positive_rate)\n",
    "print(\"ROC AUC \", roc_auc)\n"
   ]
  },
  {
   "cell_type": "code",
   "execution_count": 53,
   "metadata": {},
   "outputs": [
    {
     "data": {
      "text/plain": [
       "(2000, 2000)"
      ]
     },
     "execution_count": 53,
     "metadata": {},
     "output_type": "execute_result"
    }
   ],
   "source": [
    "len(y_pred_proba),len(y_test)"
   ]
  },
  {
   "cell_type": "code",
   "execution_count": 68,
   "metadata": {},
   "outputs": [],
   "source": [
    "pred_proba = []\n",
    "for items in y_pred_proba:\n",
    "    list1 =[]\n",
    "    list1.append(1 -items)\n",
    "    list1.append(items)\n",
    "    pred_proba.append([1 - items,items])"
   ]
  },
  {
   "cell_type": "code",
   "execution_count": 70,
   "metadata": {},
   "outputs": [
    {
     "data": {
      "text/plain": [
       "<matplotlib.axes._subplots.AxesSubplot at 0x18cbf283320>"
      ]
     },
     "execution_count": 70,
     "metadata": {},
     "output_type": "execute_result"
    },
    {
     "data": {
      "image/png": "[encoded data removed]",
      "text/plain": [
       "<matplotlib.figure.Figure at 0x18cbee59278>"
      ]
     },
     "metadata": {},
     "output_type": "display_data"
    }
   ],
   "source": [
    "scikitplot.metrics.plot_roc(y_test,pred_proba)"
   ]
  },
  {
   "cell_type": "code",
   "execution_count": 71,
   "metadata": {},
   "outputs": [
    {
     "data": {
      "text/plain": [
       "Index(['RowNumber', 'CustomerId', 'Surname', 'CreditScore', 'Geography',\n",
       "       'Gender', 'Age', 'Tenure', 'Balance', 'NumOfProducts', 'HasCrCard',\n",
       "       'IsActiveMember', 'EstimatedSalary', 'Exited'],\n",
       "      dtype='object')"
      ]
     },
     "execution_count": 71,
     "metadata": {},
     "output_type": "execute_result"
    }
   ],
   "source": [
    "dataset.columns"
   ]
  },
  {
   "cell_type": "code",
   "execution_count": 74,
   "metadata": {},
   "outputs": [
    {
     "data": {
      "text/plain": [
       "<matplotlib.legend.Legend at 0x18cbf360c18>"
      ]
     },
     "execution_count": 74,
     "metadata": {},
     "output_type": "execute_result"
    },
    {
     "data": {
      "image/png": "[encoded data removed]",
      "text/plain": [
       "<matplotlib.figure.Figure at 0x18cbf360b00>"
      ]
     },
     "metadata": {},
     "output_type": "display_data"
    }
   ],
   "source": [
    "from matplotlib import pyplot as plt \n",
    "plt.scatter(data['Age'],data['CreditScore'], c=data['Exited']) \n",
    "plt.ylabel('Credit Score') \n",
    "plt.xlabel('Age')\n",
    "plt.legend()"
   ]
  },
  {
   "cell_type": "markdown",
   "metadata": {},
   "source": [
    "#### Survival Analysis\n",
    "\n",
    "What Logistic Regression is doing (under the hood) is assigning a probability to each observation that describes how likely it is to belong to the positive class.\n",
    "\n",
    "In the case of churn vs no-churn, and any kind of classification, this can seem like a minor annoyance that we have to overcome by selecting a cutoff and rounding the output (<0.5 means 0, >=0.5 means 1). However, if you think about it, this probability is exactly what we want.\n",
    "\n",
    "In any large enough group of customers there are going to be people who have the same attributes / features (that’s the pigeon hole principle at work). Some of those will churn and some of them won’t, and what you’d ideally like to know is the probability of churn for each group. This is what Logistic Regression gives you (before you cutoff and round), but using Logistic Regression in this scenario does have one problem — it’s not clear what time scale it’s predicting for. Enter Survival Analysis.\n",
    "\n",
    "Survival Analysis is a set of methods used in the life sciences (mostly Epidemiology and Pharma research) to determine the probability of patient cohort survival over time. It’s a very large body of work with a great many intricate and statistically sophisticated tools, but we’ll only be using one of them — The Cox Proportional Hazards Model."
   ]
  },
  {
   "cell_type": "markdown",
   "metadata": {},
   "source": [
    "#### The Cox Proportional Hazards Model\n",
    "\n",
    "The Cox PH Model is a regression based model that analyses the covariates (features) of a dataset with regards to how long a patient (or customer) survives. It is called the Proportional Hazards model as it describes how each feature proportionally increases risk over the baseline survival rate for a cohort.\n",
    "\n",
    "Thanks to the very good and well-documented lifelines package in Python, it is simple to get started using the Cox PH model."
   ]
  },
  {
   "cell_type": "code",
   "execution_count": null,
   "metadata": {
    "collapsed": true
   },
   "outputs": [],
   "source": []
  }
 ],
 "metadata": {
  "kernelspec": {
   "display_name": "Python 3",
   "language": "python",
   "name": "python3"
  },
  "language_info": {
   "codemirror_mode": {
    "name": "ipython",
    "version": 3
   },
   "file_extension": ".py",
   "mimetype": "text/x-python",
   "name": "python",
   "nbconvert_exporter": "python",
   "pygments_lexer": "ipython3",
   "version": "3.6.3"
  }
 },
 "nbformat": 4,
 "nbformat_minor": 2
}
